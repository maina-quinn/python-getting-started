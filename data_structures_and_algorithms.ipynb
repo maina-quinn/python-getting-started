{
  "nbformat": 4,
  "nbformat_minor": 0,
  "metadata": {
    "colab": {
      "provenance": [],
      "authorship_tag": "ABX9TyM18b+uPHdv2p0X3o9pNi2e",
      "include_colab_link": true
    },
    "kernelspec": {
      "name": "python3",
      "display_name": "Python 3"
    },
    "language_info": {
      "name": "python"
    }
  },
  "cells": [
    {
      "cell_type": "markdown",
      "metadata": {
        "id": "view-in-github",
        "colab_type": "text"
      },
      "source": [
        "<a href=\"https://colab.research.google.com/github/maina-quinn/python-getting-started/blob/main/data_structures_and_algorithms.ipynb\" target=\"_parent\"><img src=\"https://colab.research.google.com/assets/colab-badge.svg\" alt=\"Open In Colab\"/></a>"
      ]
    },
    {
      "cell_type": "code",
      "source": [
        "# Big-O notation\n",
        "# keep fastest growing term\n",
        "# drop constants\n",
        "# time growth- measuring time complexity\n",
        "# space growth- measuring space growth_ k=n/2>k---> k=O(logn)"
      ],
      "metadata": {
        "id": "xeyX0urXUFK_"
      },
      "execution_count": null,
      "outputs": []
    },
    {
      "cell_type": "markdown",
      "source": [
        "Non-primitive data structures: These are complex data structures that are built using primitive data types. Non-primitive data structures can be further categorized into the following types:\n",
        "\n",
        "Arrays: A collection of elements of the same data type, stored in contiguous memory locations.\n",
        "\n",
        "Linked lists: A collection of elements that are connected by links or pointers.\n",
        "\n",
        "Stacks: A collection of elements that follow the Last-In-First-Out (LIFO) principle.\n",
        "\n",
        "Queues: A collection of elements that follow the First-In-First-Out (FIFO) principle.\n",
        "\n",
        "Trees: A hierarchical data structure consisting of nodes connected by edges.\n",
        "\n",
        "Graphs: A non-linear data structure consisting of nodes and edges.\n",
        "\n",
        "Hash tables: A data structure that stores data in an associative manner using a hash function.\n",
        "\n",
        "Heaps: A specialized tree-based data structure that satisfies the heap property.\n",
        "\n",
        "Tries: A tree-like data structure used to store associative arrays where the keys are strings.\n",
        "\n",
        "Sets: A collection of unique elements.\n",
        "\n",
        "Maps: An abstract data type that stores key-value pairs."
      ],
      "metadata": {
        "id": "o8nYBMTdZGpo"
      }
    },
    {
      "cell_type": "markdown",
      "source": [
        "A linear data structure is a type of data structure in which data elements are arranged in a sequential order, and each element has a unique predecessor and successor, except for the first and last elements(linear dimension). Example:lists, stack, queue"
      ],
      "metadata": {
        "id": "Fogr-3JeZb0i"
      }
    },
    {
      "cell_type": "markdown",
      "source": [
        "A Non-linear data structure is a type of data structure in which data elements are not arranged in a sequential order, and each element may have one or more predecessors and successors. Example: tree, graph, table"
      ],
      "metadata": {
        "id": "q6XqU6XXZnu-"
      }
    },
    {
      "cell_type": "code",
      "source": [
        "# data structure- different forms of storing data\n",
        "# categories- linear& non-linear DS\n",
        "# Linear Ds- indexed data. ----> static(arrays) and dynamic(qeues, stacks, linked lists)\n",
        "# Non-Linear----> Trees, Graphs"
      ],
      "metadata": {
        "id": "r-1q176hjtQJ"
      },
      "execution_count": null,
      "outputs": []
    },
    {
      "cell_type": "code",
      "source": [
        "# Algorithms- set of sets for solving a known problem\n",
        "# Main Categories: Sorting, searching, inserting, updating, deleting"
      ],
      "metadata": {
        "id": "Ba6UlDMLkWdG"
      },
      "execution_count": null,
      "outputs": []
    },
    {
      "cell_type": "code",
      "source": [
        "# Arrays\n",
        "# An array has value with the same or different data types\n",
        "# Similar to arrays in maths, they exist as single dimension and or multiple dimensions\n",
        "# They are mainly used to store multiple elements of simlar nature together at one place\n",
        "# An array value has an index and a memory address\n",
        "# An array index is the key value to label the array elemnts value position in the array\n",
        "# The memory address is the starting address of free memory available\n",
        "# An element is the stored value in the array\n",
        "# The index is the location of an alement in the array refernced by a numerical value starting from zero(0)\n",
        "\n",
        "my_array= [\"mercedes\", \"BMW\", \"Land cruiser\", \"Volkswagen\"]\n",
        "# To reference mercedes, you use my_array[0]\n",
        "# To reference BMW, you use my_array[1]\n",
        "# To reference Land cruiser, you use my_array[2]\n",
        "# To reference Volkswagen, you use my_array[3]\n",
        "\n",
        "# Arrays provide O(1) Random access look-up time\n",
        "# Acessing the first and the nth element will both take the same time\n",
        "# This is because an array comes with a pointer which points to the right location of the memory\n",
        "# ___and an offset value which shows how far to look in the said memory\n",
        "# In this case, the pointer is my_array and the offset value is index in [index]\n",
        "\n",
        "# Array representation\n",
        "# Arrays are represented as a collection of bucket indexed from 0 to n-1 where n is the size of the array\n",
        "# my_array has 4  element and mercedes takes index zero(0) and volkswagen takes index 4-1=3\n",
        "# In a multi-dimension array, each bucket has a sub-bucket referenced as my_array[m][n]\n",
        "my_array2= [[\"mercedes\", \"BMW\", \"Volkswagen\"], [\"Black\", \"Yellow\", \"Silver\"]]\n",
        "print(my_array2[0][0])\n",
        "print(my_array2[1][2])\n",
        "\n",
        "# Operations on arrays\n",
        "# The basic operations on arrays are; insertion, deletion, searching, display, traverse and update\n",
        "# This operations seek to modify data in the array, or report the status\n",
        "\n",
        "# Insertion- adds an element at the given index\n",
        "# Deletion- deletes an element at the given index\n",
        "# Search- searches an element using the given index\n",
        "# Display- displays the contents of an array\n",
        "# Traverse- print all elements of an array in a sequential order\n",
        "# Update- updates the value of the element an the given index\n",
        "\n"
      ],
      "metadata": {
        "colab": {
          "base_uri": "https://localhost:8080/"
        },
        "id": "Ld8tk9nPmE-n",
        "outputId": "431946bd-0183-45d4-e2a3-4899273113d2"
      },
      "execution_count": null,
      "outputs": [
        {
          "output_type": "stream",
          "name": "stdout",
          "text": [
            "mercedes\n",
            "Silver\n"
          ]
        }
      ]
    },
    {
      "cell_type": "code",
      "source": [
        "# Insertion\n",
        "# A new element can be added at the beginning and or at a given index of the array\n",
        "# Pseudo code\n",
        "'''\n",
        "Start\n",
        "Create an array of desired data type and size\n",
        "Initialize a variable i as zero(0)\n",
        "Enter the element at ith index of the array\n",
        "Increment i by 1\n",
        "Repeat entering and incrementing until the end of the array\n",
        "Stop\n",
        "'''\n",
        "my_array3= []\n",
        "for i in range(0, 5):\n",
        "  value= input(\"Enter value: \")\n",
        "  my_array3.append(value)\n",
        "print(my_array3)"
      ],
      "metadata": {
        "colab": {
          "base_uri": "https://localhost:8080/"
        },
        "id": "ZMNr0FysbuP5",
        "outputId": "a7a04c85-878d-4967-af1b-cce8191ff8a7"
      },
      "execution_count": null,
      "outputs": [
        {
          "output_type": "stream",
          "name": "stdout",
          "text": [
            "Enter value: 4\n",
            "Enter value: 3\n",
            "Enter value: 6\n",
            "Enter value: 6\n",
            "Enter value: 4\n",
            "['4', '3', '6', '6', '4']\n"
          ]
        }
      ]
    },
    {
      "cell_type": "code",
      "source": [
        "# Search\n",
        "# This entails looking for a value by comparing each value in the array to check if the query value exists\n",
        "'''\n",
        "Start\n",
        "Initialize array\n",
        "Set index to be zero\n",
        "Check if search value is equal to array[index]\n",
        "Increment index by 1\n",
        "Repeat check and increment until the check returns true\n",
        "print index, value\n",
        "Stop\n",
        "'''\n",
        "\n",
        "vehicle_brands= [\"Toyota\", \"Volvo\", \"BMW\", \"Mercedes\", \"Audi\", \"Nissan\"]\n",
        "for count, brand in enumerate(vehicle_brands):\n",
        "  if brand== \"Audi\":\n",
        "    print(count, brand)"
      ],
      "metadata": {
        "colab": {
          "base_uri": "https://localhost:8080/"
        },
        "id": "1mXHwZNvTIiD",
        "outputId": "20ca3e52-0830-4f1c-e0bc-dd3264af9dfa"
      },
      "execution_count": null,
      "outputs": [
        {
          "output_type": "stream",
          "name": "stdout",
          "text": [
            "4 Audi\n"
          ]
        }
      ]
    },
    {
      "cell_type": "code",
      "source": [
        "# Deletion\n",
        "# We delete an element from a particular index of an array\n",
        "# Behind the scenes we assign the value in the consequent index to the current index\n",
        "'''\n",
        "Start\n",
        "Initialize an array\n",
        "Initialize index\n",
        "loop through array to find delete value and its index\n",
        "Assign the current index's value the value of the next index (array[index]= array[index + 1])\n",
        "Repeat the assignments above to the end of the array\n",
        "Stop\n",
        "'''\n",
        "\n",
        "vehicle_brands= [\"Toyota\", \"Volvo\", \"BMW\", \"Mercedes\", \"Audi\", \"Nissan\"]\n",
        "vehicle_brands.pop(2)\n",
        "print(vehicle_brands)\n",
        "\n",
        "vehicle_brands= [\"Toyota\", \"Volvo\", \"BMW\", \"Mercedes\", \"Audi\", \"Nissan\"]\n",
        "vehicle_brands.remove(\"Volvo\")\n",
        "print(vehicle_brands)"
      ],
      "metadata": {
        "colab": {
          "base_uri": "https://localhost:8080/"
        },
        "id": "zS3E_aKGV0Sv",
        "outputId": "593ea0f9-ee39-4a6d-d391-3036253c7a5d"
      },
      "execution_count": null,
      "outputs": [
        {
          "output_type": "stream",
          "name": "stdout",
          "text": [
            "['Toyota', 'Volvo', 'Mercedes', 'Audi', 'Nissan']\n",
            "['Toyota', 'BMW', 'Mercedes', 'Audi', 'Nissan']\n"
          ]
        }
      ]
    },
    {
      "cell_type": "code",
      "source": [
        "# Traverse\n",
        "# This is looping through values in an array\n",
        "'''\n",
        "Start\n",
        "Initialize array\n",
        "Initialize index at zero(0)\n",
        "Print the index value of the array\n",
        "Increment Index by 1\n",
        "Rpeat print and increment to the end of the array\n",
        "Stop\n",
        "'''\n",
        "\n",
        "vehicle_brands= [\"Toyota\", \"Volvo\", \"BMW\", \"Mercedes\", \"Audi\", \"Nissan\"]\n",
        "for count, vehicle_brand in enumerate(vehicle_brands):\n",
        "  print(count, vehicle_brand)"
      ],
      "metadata": {
        "colab": {
          "base_uri": "https://localhost:8080/"
        },
        "id": "VBerWjY8ZOwX",
        "outputId": "cdb25f67-cb57-4ec6-ccdc-ceda0190ded3"
      },
      "execution_count": null,
      "outputs": [
        {
          "output_type": "stream",
          "name": "stdout",
          "text": [
            "0 Toyota\n",
            "1 Volvo\n",
            "2 BMW\n",
            "3 Mercedes\n",
            "4 Audi\n",
            "5 Nissan\n"
          ]
        }
      ]
    },
    {
      "cell_type": "code",
      "source": [
        "# Update\n",
        "# This entails assigning a different value to an index value of an array\n",
        "'''\n",
        "Start\n",
        "Initialize the array\n",
        "Get update index\n",
        "Set value of index to new value\n",
        "Stop\n",
        "'''\n",
        "\n",
        "vehicle_brands= [\"Toyota\", \"Volvo\", \"BMW\", \"Mercedes\", \"Audi\", \"Nissan\"]\n",
        "vehicle_brands[4]= \"Fiat\"\n",
        "print(vehicle_brands)"
      ],
      "metadata": {
        "colab": {
          "base_uri": "https://localhost:8080/"
        },
        "id": "7Mwn5aB_aTRN",
        "outputId": "dcab0e54-9f42-48e8-a98d-9f86bfa684b8"
      },
      "execution_count": null,
      "outputs": [
        {
          "output_type": "stream",
          "name": "stdout",
          "text": [
            "['Toyota', 'Volvo', 'BMW', 'Mercedes', 'Fiat', 'Nissan']\n"
          ]
        }
      ]
    },
    {
      "cell_type": "code",
      "source": [
        "# Lists\n",
        "# lists in python are unordered collection of data just like arrays in the general programming concept.\n",
        "# They allow different types of elements to be included\n",
        "my_list= [9, \"Mango\", 56.9, \"Toyota\"]\n",
        "print(my_list)\n",
        "\n",
        "# List elements can be accessed by the assigned index.\n",
        "#The starting index of a list is zero, and the ending index for n numbers is n-1\n",
        "# To declare a multidimentional list, we input a list within a list\n",
        "multi_list=[[2,4.2,56,33.90], [\"Toyota\", \"Volvo\", \"Honda\", \"BMW\"], [\"Mango\", \"Pears\", \"Pawpaw\"]]\n",
        "print(multi_list[1][3])\n",
        "\n",
        "assert multi_list[1][3]== \"BMW\""
      ],
      "metadata": {
        "colab": {
          "base_uri": "https://localhost:8080/"
        },
        "id": "bUsuEAMf-Wdp",
        "outputId": "1f5ed8f9-0122-4f02-d897-e2a9f40cfb0b"
      },
      "execution_count": null,
      "outputs": [
        {
          "output_type": "stream",
          "name": "stdout",
          "text": [
            "[9, 'Mango', 56.9, 'Toyota']\n",
            "BMW\n"
          ]
        }
      ]
    },
    {
      "cell_type": "code",
      "source": [
        "# Tuples\n",
        "# In python, tuples are similar to lists but they are immutable i.e once created cannot be modified\n",
        "# they also contain elements of various types\n",
        "# N.B: a tuple of one element must contain a trailing comma\n",
        "my_tuple= (\"Mango\", \"Pears\", \"Pawpaw\", 9, 56.322)\n",
        "print(my_tuple)\n",
        "\n",
        "my_tuple2= (\"mango\",)\n",
        "print(my_tuple2)\n",
        "\n",
        "# Values are accessible by their index starting from zero(0), to n-1 for n numbers\n",
        "print(my_tuple[0])\n",
        "print(my_tuple[4])\n",
        "\n",
        "multi_tuple= ((\"Toyota\", \"Volvo\", \"Honda\", \"BMW\"), (2,4.2,56,33.90), (\"Mango\", \"Pears\", \"Pawpaw\"))\n",
        "print(multi_tuple[2][1])"
      ],
      "metadata": {
        "colab": {
          "base_uri": "https://localhost:8080/"
        },
        "id": "frXmJwJuCGYI",
        "outputId": "0c80f79a-5bef-434d-9abc-325f82da7ed3"
      },
      "execution_count": null,
      "outputs": [
        {
          "output_type": "stream",
          "name": "stdout",
          "text": [
            "('Mango', 'Pears', 'Pawpaw', 9, 56.322)\n",
            "('mango',)\n",
            "Mango\n",
            "56.322\n",
            "Pears\n"
          ]
        }
      ]
    },
    {
      "cell_type": "code",
      "source": [
        "# Set\n",
        "# Python sets are a mutable collection of data that does not allow for duplication\n",
        "# sets are commonly used to perform membership testing and eliminating duplicate entries\n",
        "my_set= set({\"Toyota\", \"Volvo\", \"Honda\", \"BMW\", \"Toyota\", \"Volvo\"})\n",
        "print(my_set)\n",
        "\n",
        "# Testing for membership\n",
        "my_set2= set({\"Honda\"})\n",
        "print(my_set2)\n",
        "assert my_set2.issubset(my_set)\n",
        "assert my_set.issuperset(my_set2)"
      ],
      "metadata": {
        "colab": {
          "base_uri": "https://localhost:8080/"
        },
        "id": "TfKlRpEXEqt3",
        "outputId": "755d386c-54db-4f10-96a1-ac75352e2176"
      },
      "execution_count": null,
      "outputs": [
        {
          "output_type": "stream",
          "name": "stdout",
          "text": [
            "{'Honda', 'Toyota', 'Volvo', 'BMW'}\n",
            "{'Honda'}\n"
          ]
        }
      ]
    },
    {
      "cell_type": "code",
      "source": [
        "# Strings\n",
        "# Strings are an immutable array of bytes representing unicode characters(a,b,c...f)\n",
        "# python does not have a character data type therefore a single value character is represented by a string of length one\n",
        "my_string= \"Good morning\"\n",
        "print(my_string)\n",
        "assert my_string[0]== \"G\"\n",
        "assert my_string[4]== \" \""
      ],
      "metadata": {
        "colab": {
          "base_uri": "https://localhost:8080/"
        },
        "id": "4s_wUQ-sH0nM",
        "outputId": "185dd441-fb2f-40dc-cf80-0ea4a49e48dc"
      },
      "execution_count": null,
      "outputs": [
        {
          "output_type": "stream",
          "name": "stdout",
          "text": [
            "Good morning\n"
          ]
        }
      ]
    },
    {
      "cell_type": "code",
      "source": [
        "# Dictionaries\n",
        "# Dictionaries in python are an unordered collection of data that stores data in the format of key:value pair\n",
        "# Indexing in python  dictionaries is  done using keys\n",
        "# Dictionaries arecreated using {} or dictionaries comprehension\n",
        "my_dict= {\"name\":\"Dan\", 1:\"Car\"}\n",
        "print(my_dict)\n",
        "\n",
        "assert my_dict[\"name\"]== \"Dan\""
      ],
      "metadata": {
        "colab": {
          "base_uri": "https://localhost:8080/"
        },
        "id": "wV6n275ZJFuq",
        "outputId": "07a1abf4-a8da-4d5c-ea72-ea6efa37cce5"
      },
      "execution_count": null,
      "outputs": [
        {
          "output_type": "stream",
          "name": "stdout",
          "text": [
            "{'name': 'Dan', 1: 'Car'}\n"
          ]
        }
      ]
    },
    {
      "cell_type": "code",
      "source": [
        "# Assignment:\n",
        "# linked lists\n",
        "# stack\n",
        "# qeue\n",
        "# priority qeue\n",
        "# binary tree\n",
        "# Graphs\n",
        "#"
      ],
      "metadata": {
        "id": "7J6z1aWDLADE"
      },
      "execution_count": null,
      "outputs": []
    },
    {
      "cell_type": "code",
      "source": [
        "# Linked list\n",
        "# every node has 2 parts: data and pointer/link(address) to the next node\n",
        "# Root node; first node\n",
        "# get_size\n",
        "# find(data)\n",
        "# add(data)\n",
        "# remove(data)\n",
        "\n",
        "# single linked list; navigation is forward only\n",
        "# created using self-referential structure\n",
        "\n",
        "# Linked list with a predefined sequence\n",
        "class Node:\n",
        "  def __init__(self, data):\n",
        "    self.data= data\n",
        "    self.next= None\n",
        "\n",
        "  def __str__(self):\n",
        "    return \"Data: {}, Next: {}\".format(self.data, self.next)\n",
        "\n",
        "class LinkedList:\n",
        "  def __init__(self):\n",
        "    self.head= None\n",
        "\n",
        "  def __str__(self):\n",
        "    return \"{}\".format(self.head)\n",
        "\n",
        "if __name__== \"__main__\":\n",
        "  node1= Node(10)\n",
        "  print(node1)\n",
        "\n",
        "  node2= Node(11)\n",
        "  print(node2)\n",
        "  node1.next= node2\n",
        "\n",
        "  node3= Node(12)\n",
        "  print(node3)\n",
        "  node2.next=node3\n",
        "  print(\"##################### assigned nodes\")\n",
        "  print(node3)\n",
        "  print(node2)\n",
        "  print(node1)\n",
        "  print(\"#################### linked lists\")\n",
        "  linked_list= LinkedList()\n",
        "  # print(\"Initialized linked list: \", linked_list)\n",
        "  linked_list.head= node1\n",
        "  print(\"Initialized linked list: \", linked_list)\n",
        "\n",
        "# doubly linked list; forward and backward navigation\n",
        "# circular linked list; last element is linked to the first element\n",
        "\n",
        "\n"
      ],
      "metadata": {
        "id": "3fgb9cznfIce",
        "colab": {
          "base_uri": "https://localhost:8080/"
        },
        "outputId": "1b3a3e25-5c2c-46a4-e64d-da3e6ea37ab3"
      },
      "execution_count": null,
      "outputs": [
        {
          "output_type": "stream",
          "name": "stdout",
          "text": [
            "Data: 10, Next: None\n",
            "Data: 11, Next: None\n",
            "Data: 12, Next: None\n",
            "##################### assigned nodes\n",
            "Data: 12, Next: None\n",
            "Data: 11, Next: Data: 12, Next: None\n",
            "Data: 10, Next: Data: 11, Next: Data: 12, Next: None\n",
            "#################### linked lists\n",
            "Initialized linked list:  Data: 10, Next: Data: 11, Next: Data: 12, Next: None\n"
          ]
        }
      ]
    },
    {
      "cell_type": "code",
      "source": [
        "# LINKED LISTS\n",
        "# Setting up a linked list on the go\n",
        "class Node:\n",
        "  def __init__(self, data):\n",
        "    self.data= data\n",
        "    self.next= None\n",
        "\n",
        "  def __str__(self):\n",
        "    return \"Data: {}, Next: {}\".format(self.data, self.next)\n",
        "\n",
        "class LinkedList:\n",
        "  def __init__(self):\n",
        "    self.head= None\n",
        "\n",
        "  def __str__(self):\n",
        "    return \"{}\".format(self.head)\n",
        "\n",
        "if __name__== \"__main__\":\n",
        "  node1= Node(10)\n",
        "  print(node1)\n",
        "\n",
        "  node2= Node(11)\n",
        "  print(node2)\n",
        "\n",
        "  node3= Node(12)\n",
        "  print(node3)\n",
        "\n",
        "  linked_list= LinkedList()\n",
        "  linked_list.head= node3\n",
        "  linked_list.head.next= node2\n",
        "  node2.next= node1\n",
        "  print(linked_list)"
      ],
      "metadata": {
        "colab": {
          "base_uri": "https://localhost:8080/"
        },
        "id": "vkw6Ku6KW5zt",
        "outputId": "90b67c8d-90d3-4a23-9281-f8c6c5d57938"
      },
      "execution_count": null,
      "outputs": [
        {
          "output_type": "stream",
          "name": "stdout",
          "text": [
            "Data: 10, Next: None\n",
            "Data: 11, Next: None\n",
            "Data: 12, Next: None\n",
            "Data: 12, Next: Data: 11, Next: Data: 10, Next: None\n"
          ]
        }
      ]
    },
    {
      "cell_type": "code",
      "source": [
        "# LINKED LISTS\n",
        "# Traversing linked lists\n",
        "class Node:\n",
        "  def __init__(self, data):\n",
        "    self.data= data\n",
        "    self.next= None\n",
        "\n",
        "  def __str__(self):\n",
        "    return \"Data: {}, Next: {}\".format(self.data, self.next)\n",
        "\n",
        "class LinkedList:\n",
        "  def __init__(self):\n",
        "    self.head= None\n",
        "\n",
        "  def traverse(self):\n",
        "    temp= self.head\n",
        "    while (temp):\n",
        "      print(temp.data)\n",
        "      temp= temp.next\n",
        "\n",
        "  def __str__(self):\n",
        "    return \"{}\".format(self.head)\n",
        "\n",
        "\n",
        "if __name__== \"__main__\":\n",
        "  node1= Node(10)\n",
        "  print(node1)\n",
        "\n",
        "  node2= Node(11)\n",
        "  print(node2)\n",
        "\n",
        "  node3= Node(12)\n",
        "  print(node3)\n",
        "\n",
        "  linked_list= LinkedList()\n",
        "  linked_list.head= node1\n",
        "  linked_list.head.next= node2\n",
        "  node2.next= node3\n",
        "  print(linked_list)\n",
        "\n",
        "  print(\"############ Traversing\")\n",
        "  linked_list.traverse()"
      ],
      "metadata": {
        "colab": {
          "base_uri": "https://localhost:8080/"
        },
        "id": "zMB3dHPLZSZt",
        "outputId": "bb891943-e195-4877-afba-f9b9c42d6c0c"
      },
      "execution_count": null,
      "outputs": [
        {
          "output_type": "stream",
          "name": "stdout",
          "text": [
            "Data: 10, Next: None\n",
            "Data: 11, Next: None\n",
            "Data: 12, Next: None\n",
            "Data: 10, Next: Data: 11, Next: Data: 12, Next: None\n",
            "############ Traversing\n",
            "10\n",
            "11\n",
            "12\n"
          ]
        }
      ]
    },
    {
      "cell_type": "code",
      "source": [
        "# stacks in python\n",
        "# lifo e.g web-browser\n",
        "browsing_session=[]\n",
        "browsing_session.append(1)\n",
        "browsing_session.append(2)\n",
        "browsing_session.append(3)\n",
        "print(browsing_session)\n",
        "last= browsing_session.pop()\n",
        "print(last)\n",
        "print(browsing_session) # 3 is removed first\n",
        "\n",
        "# to get item on top of the stack, check if the stack is empty then we use [-1]\n",
        "if not browsing_session:\n",
        "  print(browsing_session[-1])\n"
      ],
      "metadata": {
        "colab": {
          "base_uri": "https://localhost:8080/"
        },
        "id": "OpqfjgYwipWM",
        "outputId": "66c2e810-6528-41f5-f64d-c0f0796c354f"
      },
      "execution_count": null,
      "outputs": [
        {
          "output_type": "stream",
          "name": "stdout",
          "text": [
            "[1, 2, 3]\n",
            "3\n",
            "[1, 2]\n"
          ]
        }
      ]
    },
    {
      "cell_type": "code",
      "source": [
        "# queues in python\n",
        "# Fifo/Lilo principle\n",
        "# queues: enqueue(similar to push in stacks) and dequeue(similar to pop in stack)\n",
        "#\n",
        "\n",
        "# priority queues in python\n",
        "# does not use FIFO and FILO principle\n",
        "# enqueue(not necesarily at the beginning) and dequeue(not necessarily at the end)\n",
        "# uses the priority of the data\n",
        "# implimenting priority queue in an efficient way,we use the heap data structure\n"
      ],
      "metadata": {
        "id": "nK_oEQ5zkmdg"
      },
      "execution_count": null,
      "outputs": []
    },
    {
      "cell_type": "code",
      "source": [
        "# Binary Tree in python:\n",
        "# structure in which nodes are connected to each other, and there is a way to go from the root node to every other node\n",
        "# Each node can link to other multiple nodes\n",
        "# when a tree has at most 2children, it is refered to as a binary tree\n",
        "'''\n",
        "class Node{\n",
        "    int data\n",
        "    Node left\n",
        "    Node right\n",
        "}\n",
        "'''\n",
        "def find_sum(root):\n",
        "  if root == null:\n",
        "    return 0\n",
        "  else:\n",
        "    return root.data + find_sum(root.left) + find_sum(root.right)\n",
        "find_sum()"
      ],
      "metadata": {
        "colab": {
          "base_uri": "https://localhost:8080/",
          "height": 208
        },
        "id": "mk84LscQnRQL",
        "outputId": "86ae08dc-9a56-41b1-f2bb-1e56271d59e0"
      },
      "execution_count": null,
      "outputs": [
        {
          "output_type": "error",
          "ename": "NameError",
          "evalue": "ignored",
          "traceback": [
            "\u001b[0;31m---------------------------------------------------------------------------\u001b[0m",
            "\u001b[0;31mNameError\u001b[0m                                 Traceback (most recent call last)",
            "\u001b[0;32m<ipython-input-11-3fae9693e798>\u001b[0m in \u001b[0;36m<cell line: 17>\u001b[0;34m()\u001b[0m\n\u001b[1;32m     15\u001b[0m   \u001b[0;32melse\u001b[0m\u001b[0;34m:\u001b[0m\u001b[0;34m\u001b[0m\u001b[0;34m\u001b[0m\u001b[0m\n\u001b[1;32m     16\u001b[0m     \u001b[0;32mreturn\u001b[0m \u001b[0mroot\u001b[0m\u001b[0;34m.\u001b[0m\u001b[0mdata\u001b[0m \u001b[0;34m+\u001b[0m \u001b[0mfind_sum\u001b[0m\u001b[0;34m(\u001b[0m\u001b[0mroot\u001b[0m\u001b[0;34m.\u001b[0m\u001b[0mleft\u001b[0m\u001b[0;34m)\u001b[0m \u001b[0;34m+\u001b[0m \u001b[0mfind_sum\u001b[0m\u001b[0;34m(\u001b[0m\u001b[0mroot\u001b[0m\u001b[0;34m.\u001b[0m\u001b[0mright\u001b[0m\u001b[0;34m)\u001b[0m\u001b[0;34m\u001b[0m\u001b[0;34m\u001b[0m\u001b[0m\n\u001b[0;32m---> 17\u001b[0;31m \u001b[0mfind_sum\u001b[0m\u001b[0;34m(\u001b[0m\u001b[0mroot\u001b[0m\u001b[0;34m)\u001b[0m\u001b[0;34m\u001b[0m\u001b[0;34m\u001b[0m\u001b[0m\n\u001b[0m",
            "\u001b[0;31mNameError\u001b[0m: name 'root' is not defined"
          ]
        }
      ]
    },
    {
      "cell_type": "code",
      "source": [
        "# BINARY TREE\n",
        "# It is hierachial data structure that uses nodes to form a tree\n",
        "# The top-most node in the tree is called the Root Node, while the bottom most nodes or the node without subsequent nodes are called leaf nodes\n",
        "# Subsequent nodes to a given node are called children, while the preceeding nodes to which the child belongs to is called parent node\n",
        "#                                                                    A\n",
        "#                                                                  /   \\\n",
        "#                                                                 /     \\\n",
        "#                                                                B       C\n",
        "#                                                               /  \\     / \\\n",
        "#                                                              /    \\   /   \\\n",
        "#                                                             D      E F     G\n",
        "# A is the Root node\n",
        "# The above (D,E,F,G) are the leaf nodes\n",
        "# A is the parent to B,C, therefore making B,C the children of A\n",
        "# B is the parent to D,E, therefore making D,E the children of B\n",
        "# C is the parent to F,G, therefore making F,G the children of C\n",
        "# Binary tree contains;\n",
        "# 1.) Data,\n",
        "# 2.) Pointer to left child,\n",
        "# 3.) Pointer to right child.\n",
        "\n",
        "# Code\n",
        "class Node:\n",
        "  def __init__(self, data):\n",
        "    self.data= data\n",
        "    self.left= None\n",
        "    self.right= None\n",
        "\n",
        "  def __str__(self):\n",
        "    return f\"{self.data}\"\n",
        "\n",
        "\n",
        "if __name__== \"__main__\":\n",
        "  root= Node(\"A\")\n",
        "  root.left= Node(\"B\")\n",
        "  root.right= Node(\"C\")\n",
        "  root.left.left= Node(\"D\")\n",
        "  root.left.right= Node(\"E\")\n",
        "  root.right.left= Node(\"F\")\n",
        "  root.right.right= Node(\"G\")\n",
        "  print(root)"
      ],
      "metadata": {
        "colab": {
          "base_uri": "https://localhost:8080/"
        },
        "id": "slUdzhl-AnEP",
        "outputId": "996933fd-ce1f-4acf-bc29-7fa609a19185"
      },
      "execution_count": null,
      "outputs": [
        {
          "output_type": "stream",
          "name": "stdout",
          "text": [
            "A\n"
          ]
        }
      ]
    },
    {
      "cell_type": "code",
      "source": [
        "# Binary tree\n",
        "# Traversing Binary trees\n",
        "# The most common approaches to traversing binary trees are;\n",
        "# 1.) Depth first traversals:\n",
        "#     i.) Inorder(Left node -> Root node -> Right node)\n",
        "#    ii.) Preorder(Root node -> Left node -> Right node)\n",
        "#   iii.) Postorder(Left node -> Right node -> Root node)\n",
        "\n",
        "\n",
        "# Depth first traversals;\n",
        "\n",
        "# a.) Inorder\n",
        "# Traverse the left sub-tree, visit the root node, traverse the right sub-tree\n",
        "# For each traversal, you are typically calling the in-order function at the left and right nodes as required\n",
        "\n",
        "class Node:\n",
        "  def __init__(self, data):\n",
        "    self.data= data\n",
        "    self.left= None\n",
        "    self.right= None\n",
        "\n",
        "def traverse_inorder(node):\n",
        "  if node:\n",
        "    # Traverse the left child\n",
        "    traverse_inorder(node.left)\n",
        "    # Visit the root node\n",
        "    print(node.data)\n",
        "    # Traverse the right child\n",
        "    traverse_inorder(node.right)\n",
        "\n",
        "\n",
        "\n",
        "# b.) Preorder (Root node -> Left node -> Right node)\n",
        "def traverse_preorder(node):\n",
        "  if node:\n",
        "    # Visit the root node\n",
        "    print(node.data)\n",
        "    # Traverse the left child\n",
        "    traverse_preorder(node.left)\n",
        "    # Traverse the right child\n",
        "    traverse_preorder(node.right)\n",
        "\n",
        "# c.) Postorder (Left node -> Right node -> Root node)\n",
        "def traverse_postorder(node):\n",
        "  if node:\n",
        "    # Traverse the left child\n",
        "    traverse_postorder(node.left)\n",
        "    # Traverse the right child\n",
        "    traverse_postorder(node.right)\n",
        "    # Visit the root node\n",
        "    print(node.data)\n",
        "\n",
        "if __name__== \"__main__\":\n",
        "  root= Node(\"A\")\n",
        "  root.left= Node(\"B\")\n",
        "  root.right= Node(\"C\")\n",
        "  root.left.left= Node(\"D\")\n",
        "  root.left.right= Node(\"E\")\n",
        "  root.right.left= Node(\"F\")\n",
        "  root.right.right= Node(\"G\")\n",
        "  print(\"####################################### Inoder Traversal##########################################\")\n",
        "  traverse_inorder(root)\n",
        "\n",
        "  print(\"####################################### Preoder Traversal##########################################\")\n",
        "  traverse_preorder(root)\n",
        "\n",
        "  print(\"####################################### postoder Traversal##########################################\")\n",
        "  traverse_postorder(root)"
      ],
      "metadata": {
        "colab": {
          "base_uri": "https://localhost:8080/"
        },
        "id": "TSlzbMb7Lktc",
        "outputId": "6e8671cd-3cb5-4fdc-be7c-05f6d32b0a6c"
      },
      "execution_count": null,
      "outputs": [
        {
          "output_type": "stream",
          "name": "stdout",
          "text": [
            "####################################### Inoder Traversal##########################################\n",
            "D\n",
            "B\n",
            "E\n",
            "A\n",
            "F\n",
            "C\n",
            "G\n",
            "####################################### Preoder Traversal##########################################\n",
            "A\n",
            "B\n",
            "D\n",
            "E\n",
            "C\n",
            "F\n",
            "G\n",
            "####################################### postoder Traversal##########################################\n",
            "D\n",
            "E\n",
            "B\n",
            "F\n",
            "G\n",
            "C\n",
            "A\n"
          ]
        }
      ]
    },
    {
      "cell_type": "code",
      "source": [
        "# 2.) Breadth First/ level order Traversal:\n",
        "# for each node, first the node is visited and then the child nodes are put in a FIFO queue\n",
        "\n",
        "# pseudo code\n",
        "'''\n",
        "Create empty queue x\n",
        "Temp_node = root\n",
        "loop while Temp_node is not Null\n",
        "  print(Temp_node data)\n",
        "  enqueue Temp_node children (left-> right) to x\n",
        "  dequeue temp_node from x\n",
        "\n",
        "'''\n",
        "#                                                                    A\n",
        "#                                                                  /   \\\n",
        "#                                                                 /     \\\n",
        "#                                                                B       C\n",
        "#                                                               /  \\     / \\\n",
        "#                                                              /    \\   /   \\\n",
        "#                                                             D      E F     G\n",
        "\n",
        "\n",
        "'''\n",
        "Create an empty queue x\n",
        "append A to x\n",
        "loop through x while the length of x>1\n",
        "  (First Iteration x=[A])\n",
        "  get the value/Data in A (x[0])\n",
        "  get the children of A and append them to x\n",
        "    append B to x\n",
        "    append C to x\n",
        "  remove A from x (result, x=[B,C])\n",
        "\n",
        "  (Second Iteration x=[B,C])\n",
        "  get value/data in B (x[0])\n",
        "  get the children of B and append them to x\n",
        "    append D to x\n",
        "    append E to x\n",
        "  remove B from x (result, x=[C,D,E])\n",
        "\n",
        "  (Third Iteration x=[C,D,E])\n",
        "  get value/data in C (x[0])\n",
        "  get the children of C and append them to x\n",
        "    append F to x\n",
        "    append G to x\n",
        "  remove C from x (result, x=[D,E,F,G])\n",
        "\n",
        "  (Fourth Iteration x=[D,E,F,G])\n",
        "  get value/data in D (x[0])\n",
        "  get the children of D and append them to x\n",
        "    Since D has no children, Continue.\n",
        "  remove D from x (result, x=[E,F,G])\n",
        "\n",
        "  (Fifth Iteration x=[E,F,G])\n",
        "  get value/data in E (x[0])\n",
        "  get the children of E and append them to x\n",
        "    Since E has no children, Continue.\n",
        "  remove E from x (result, x=[F,G])\n",
        "\n",
        "  (Sixth Iteration x=[F,G])\n",
        "  get value/data in F (x[0])\n",
        "  get the children of F and append them to x\n",
        "    Since F has no children, Continue.\n",
        "  remove F from x (result, x=[G])\n",
        "\n",
        "  (Seventh Iteration x=[G])\n",
        "  get value/data in G (x[0])\n",
        "  get the children of G and append them to x\n",
        "    Since G has no children, Continue.\n",
        "  remove G from x (result, x=[])\n",
        "'''\n",
        "class Node:\n",
        "  def __init__(self,data):\n",
        "    self.data= data\n",
        "    self.left= None\n",
        "    self.right= None\n",
        "\n",
        "  def __str__(self):\n",
        "    return f\"{self.data}\"\n",
        "\n",
        "def traverse_bfs(root):\n",
        "  if not root:\n",
        "    return\n",
        "  queue= []\n",
        "  queue.append(root)\n",
        "  while(len(queue)>=1):\n",
        "    node= queue[0]\n",
        "    queue.pop(0)\n",
        "    print(node.data)\n",
        "    if node.left:\n",
        "      queue.append(node.left)\n",
        "    if node.right:\n",
        "      queue.append(node.right)\n",
        "\n",
        "if __name__== \"__main__\":\n",
        "  root= Node(\"A\")\n",
        "  root.left= Node(\"B\")\n",
        "  root.right= Node(\"C\")\n",
        "  root.left.left= Node(\"D\")\n",
        "  root.left.right= Node(\"E\")\n",
        "  root.right.left= Node(\"F\")\n",
        "  root.right.right= Node(\"G\")\n",
        "  traverse_bfs(root)"
      ],
      "metadata": {
        "colab": {
          "base_uri": "https://localhost:8080/"
        },
        "id": "bYcybnbtXaSN",
        "outputId": "38854cce-180f-4b95-a45c-7a75c67cb0fa"
      },
      "execution_count": 6,
      "outputs": [
        {
          "output_type": "stream",
          "name": "stdout",
          "text": [
            "A\n",
            "B\n",
            "C\n",
            "D\n",
            "E\n",
            "F\n",
            "G\n"
          ]
        }
      ]
    },
    {
      "cell_type": "code",
      "source": [
        "# Algorithms are used to solve problems\n",
        "# They are instructions formulated in a finite and sequential order to solve the problem\n",
        "# There are 3 main approaches to solving algorithms:\n",
        "# 1.) Divide and Conquer\n",
        "#     Divides the problem into sub-parts and solves each part indipendently\n",
        "\n",
        "# 2.) Dynamic programming\n",
        "#     Divides the problem into sub-parts, remembers the results of the sub-parts and applies it to similar ones\n",
        "\n",
        "# 3.) Greedy Algorithms\n",
        "#     Takes the easiest step while solving a problem without worrying about the complexity of future steps"
      ],
      "metadata": {
        "id": "byKiIGsocIxG"
      },
      "execution_count": null,
      "outputs": []
    },
    {
      "cell_type": "code",
      "source": [],
      "metadata": {
        "id": "cGqH6i-G9LBO"
      },
      "execution_count": null,
      "outputs": []
    }
  ]
}