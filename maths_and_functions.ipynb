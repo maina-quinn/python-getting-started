{
  "nbformat": 4,
  "nbformat_minor": 0,
  "metadata": {
    "colab": {
      "provenance": [],
      "authorship_tag": "ABX9TyNmhjaAciBU74XYSw1DJvuz"
    },
    "kernelspec": {
      "name": "python3",
      "display_name": "Python 3"
    },
    "language_info": {
      "name": "python"
    }
  },
  "cells": [
    {
      "cell_type": "code",
      "source": [
        "# Maths functions\n",
        "\n",
        "# Addition/sum\n",
        "a= 45\n",
        "b= 78\n",
        "c= a+b\n",
        "print(c)"
      ],
      "metadata": {
        "colab": {
          "base_uri": "https://localhost:8080/"
        },
        "id": "IxCW7roH-9Yk",
        "outputId": "06f96f78-4ce5-4eb1-dd8c-aea8741c213a"
      },
      "execution_count": 3,
      "outputs": [
        {
          "output_type": "stream",
          "name": "stdout",
          "text": [
            "123\n"
          ]
        }
      ]
    },
    {
      "cell_type": "code",
      "source": [
        "# Subtraction \n",
        "a= 70\n",
        "b= 23\n",
        "c= a-b\n",
        "print(c)"
      ],
      "metadata": {
        "colab": {
          "base_uri": "https://localhost:8080/"
        },
        "id": "2ZPEWdGp_cpl",
        "outputId": "a9b8078f-c7ec-41dc-d11d-543159b537e0"
      },
      "execution_count": 4,
      "outputs": [
        {
          "output_type": "stream",
          "name": "stdout",
          "text": [
            "47\n"
          ]
        }
      ]
    },
    {
      "cell_type": "code",
      "source": [
        "# Multiplication \n",
        "a= 45\n",
        "b= 28\n",
        "c= a*b\n",
        "print(c)"
      ],
      "metadata": {
        "colab": {
          "base_uri": "https://localhost:8080/"
        },
        "id": "OPCu4xr2_o4G",
        "outputId": "417248fb-a7f6-402b-ee20-ecff26c64833"
      },
      "execution_count": 5,
      "outputs": [
        {
          "output_type": "stream",
          "name": "stdout",
          "text": [
            "1260\n"
          ]
        }
      ]
    },
    {
      "cell_type": "code",
      "source": [
        "# Division\n",
        "a= 56\n",
        "b= 42\n",
        "c= a/b\n",
        "print(c)"
      ],
      "metadata": {
        "colab": {
          "base_uri": "https://localhost:8080/"
        },
        "id": "iRjhaedv_2-b",
        "outputId": "298682cd-1205-4ce5-b112-65d71dfe1010"
      },
      "execution_count": 6,
      "outputs": [
        {
          "output_type": "stream",
          "name": "stdout",
          "text": [
            "1.3333333333333333\n"
          ]
        }
      ]
    },
    {
      "cell_type": "code",
      "source": [
        "# Modulus\n",
        "a= 3588\n",
        "b= 59\n",
        "c=a%b\n",
        "print(c)"
      ],
      "metadata": {
        "colab": {
          "base_uri": "https://localhost:8080/"
        },
        "id": "8CGGEDYCAGhS",
        "outputId": "7ac16bdd-9e23-43d4-a8fa-99646dbad535"
      },
      "execution_count": 7,
      "outputs": [
        {
          "output_type": "stream",
          "name": "stdout",
          "text": [
            "48\n"
          ]
        }
      ]
    },
    {
      "cell_type": "code",
      "source": [
        "# Conditionals\n",
        "# If \n",
        "first_name= input(\"Enter first name: \")\n",
        "if first_name== \"Dan\":\n",
        "  print(\"user \",first_name, \" found\")\n",
        "\n"
      ],
      "metadata": {
        "colab": {
          "base_uri": "https://localhost:8080/"
        },
        "id": "zaAUkmoAAfXI",
        "outputId": "1761d2f0-d0c9-4c0a-a612-e4538bcfefec"
      },
      "execution_count": 13,
      "outputs": [
        {
          "output_type": "stream",
          "name": "stdout",
          "text": [
            "Enter first name: Dan\n",
            "user  Dan  found\n",
            "Enter the First name: Dan\n",
            "user  Dan  found\n"
          ]
        }
      ]
    },
    {
      "cell_type": "code",
      "source": [
        "# If else\n",
        "first_name= input(\"Enter the First name: \")\n",
        "if first_name == \"Dan\":\n",
        "  print(\"user \", first_name, \" found\")\n",
        "else:\n",
        "  print(first_name, \" was not found as a user\")"
      ],
      "metadata": {
        "colab": {
          "base_uri": "https://localhost:8080/"
        },
        "id": "pVLJNIiCF9yk",
        "outputId": "b5e561cf-fdd4-4fe1-b59d-c19892182f22"
      },
      "execution_count": 14,
      "outputs": [
        {
          "output_type": "stream",
          "name": "stdout",
          "text": [
            "Enter the First name: eddie\n",
            "eddie  was not found as a user\n"
          ]
        }
      ]
    },
    {
      "cell_type": "code",
      "source": [
        "# Else if\n",
        "first_name= input(\"Enter the First name: \")\n",
        "if first_name == \"Dan\":\n",
        "  print(\"Admin user \", first_name, \" found\")\n",
        "elif first_name == \"Rocky\":\n",
        "  print(\"Staff user \", first_name, \" found\")\n",
        "else:\n",
        "  print(first_name, \" was not found as a user\")\n"
      ],
      "metadata": {
        "colab": {
          "base_uri": "https://localhost:8080/"
        },
        "id": "FRmAForbGDib",
        "outputId": "36b7449a-2ec6-4087-e9d2-855f2c3bfbb9"
      },
      "execution_count": 16,
      "outputs": [
        {
          "output_type": "stream",
          "name": "stdout",
          "text": [
            "Enter the First name: grim \n",
            "grim   was not found as a user\n"
          ]
        }
      ]
    },
    {
      "cell_type": "code",
      "source": [
        "# Using python functions\n",
        "def hello():\n",
        "  print(\"Hello Quinton\")\n",
        "\n",
        "hello()"
      ],
      "metadata": {
        "colab": {
          "base_uri": "https://localhost:8080/"
        },
        "id": "5hbjyKHdHJ2x",
        "outputId": "97e1ddc3-69b5-410f-db44-120921a081ff"
      },
      "execution_count": 18,
      "outputs": [
        {
          "output_type": "stream",
          "name": "stdout",
          "text": [
            "Hello Quinton\n"
          ]
        }
      ]
    },
    {
      "cell_type": "code",
      "source": [
        "# Call hello to take input from a user\n",
        "def hello():\n",
        "  name= input(\"Enter your name: \")\n",
        "  print(\"Hello \", name)\n",
        "hello()"
      ],
      "metadata": {
        "colab": {
          "base_uri": "https://localhost:8080/"
        },
        "id": "kfSaTHdfH5yI",
        "outputId": "cbef2a71-f163-4799-8187-131a287faaa3"
      },
      "execution_count": 19,
      "outputs": [
        {
          "output_type": "stream",
          "name": "stdout",
          "text": [
            "Enter your name: Daniel\n",
            "Hello  Daniel\n"
          ]
        }
      ]
    },
    {
      "cell_type": "code",
      "source": [
        "# Call hello passing the name as an argument(arg)\n",
        "def hello(name):\n",
        "  print(\"Hello \", name)\n",
        "hello(\"Dan\")"
      ],
      "metadata": {
        "colab": {
          "base_uri": "https://localhost:8080/"
        },
        "id": "4eC4VGahIXD9",
        "outputId": "d559093b-06f1-43ab-e0c0-bbf7ba13fbec"
      },
      "execution_count": 20,
      "outputs": [
        {
          "output_type": "stream",
          "name": "stdout",
          "text": [
            "Hello  Dan\n"
          ]
        }
      ]
    },
    {
      "cell_type": "code",
      "source": [
        "# Call hello, passing multiple arguments\n",
        "def hello(first_name, last_name, other_names, age):\n",
        "  print(\"Hello \", first_name, last_name, other_names)\n",
        "  print(\"You are \", age, \" years old\")\n",
        "hello(\"Daniel\", \"Maina\", \"Mwihaki\", 34)"
      ],
      "metadata": {
        "colab": {
          "base_uri": "https://localhost:8080/"
        },
        "id": "Gp4V0NDWIylZ",
        "outputId": "a6c92424-5958-467f-9787-f21eef625f8f"
      },
      "execution_count": 26,
      "outputs": [
        {
          "output_type": "stream",
          "name": "stdout",
          "text": [
            "Hello  Daniel Maina Mwihaki\n",
            "You are  34  years old\n"
          ]
        }
      ]
    },
    {
      "cell_type": "code",
      "source": [
        "# Addition function\n",
        "print(sum([2,5]))\n"
      ],
      "metadata": {
        "colab": {
          "base_uri": "https://localhost:8080/"
        },
        "id": "tEIdaJKKKA3z",
        "outputId": "2916e728-e52c-4bd0-9d17-408f8a99db13"
      },
      "execution_count": 27,
      "outputs": [
        {
          "output_type": "stream",
          "name": "stdout",
          "text": [
            "7\n"
          ]
        }
      ]
    },
    {
      "cell_type": "code",
      "source": [
        "# addition function\n",
        "def add(a,b):\n",
        "  print(a+b)\n",
        "\n",
        "def subtract(a,b):\n",
        "  print(a-b)\n",
        "\n",
        "def multiply(a,b):\n",
        "  print(a*b)\n",
        "\n",
        "def divide(a,b):\n",
        "  print(a/b)\n",
        "\n",
        "def modulus(a,b):\n",
        "  print(a%b)\n",
        "\n",
        "add(34,56)\n",
        "subtract(56,462)\n",
        "multiply(34,78)\n",
        "divide(90,46)\n",
        "modulus(56,34)"
      ],
      "metadata": {
        "colab": {
          "base_uri": "https://localhost:8080/"
        },
        "id": "1b9HHoNoKZjN",
        "outputId": "c73830ff-fb76-424c-adff-3e13ba693699"
      },
      "execution_count": 30,
      "outputs": [
        {
          "output_type": "stream",
          "name": "stdout",
          "text": [
            "90\n",
            "-406\n",
            "2652\n",
            "1.9565217391304348\n",
            "22\n"
          ]
        }
      ]
    },
    {
      "cell_type": "code",
      "source": [
        "# Math functions with return values\n",
        "def add(a,b):\n",
        "  return a+b\n",
        "\n",
        "def subtract(a,b):\n",
        "  return a-b\n",
        "\n",
        "def multiply(a,b):\n",
        "  return a*b\n",
        "\n",
        "def divide(a,b):\n",
        "  return a/b\n",
        "\n",
        "def modulus(a,b):\n",
        "  return a/b\n",
        "\n",
        "print(add(34,78))\n",
        "print(subtract(57,24))\n",
        "print(multiply(24,67))\n",
        "print(divide(45,24))\n",
        "print(modulus(96,27))"
      ],
      "metadata": {
        "colab": {
          "base_uri": "https://localhost:8080/"
        },
        "id": "DNNXgv5kLvOP",
        "outputId": "9d88063a-6266-445e-c086-8e7f7fb7ef8d"
      },
      "execution_count": 33,
      "outputs": [
        {
          "output_type": "stream",
          "name": "stdout",
          "text": [
            "112\n",
            "33\n",
            "1608\n",
            "1.875\n",
            "3.5555555555555554\n"
          ]
        }
      ]
    },
    {
      "cell_type": "code",
      "source": [
        "# Calculator function\n",
        "def calc(operation, a, b):\n",
        "  if operation== \"ADD\":\n",
        "    result= a+b\n",
        "    print(result)\n",
        "  elif operation== \"SUBTRACT\":\n",
        "    result= a-b\n",
        "    print(result)\n",
        "  elif operation== \"MULTIPLY\":\n",
        "    result= a*b\n",
        "    print(result)\n",
        "  elif operation== \"DIVIDE\":\n",
        "    result= a/b\n",
        "    print(result)\n",
        "  elif operation== \"MODULUS\":\n",
        "    result= a%b\n",
        "    print(result)\n",
        "  else:\n",
        "    print(\"Operation not available\")\n",
        "\n",
        "calc(\"ADD\", 3, 5)"
      ],
      "metadata": {
        "colab": {
          "base_uri": "https://localhost:8080/"
        },
        "id": "ScDdBqUoQnXA",
        "outputId": "3ad73253-f462-4d0b-d515-b54187aef230"
      },
      "execution_count": 36,
      "outputs": [
        {
          "output_type": "stream",
          "name": "stdout",
          "text": [
            "8\n"
          ]
        }
      ]
    },
    {
      "cell_type": "code",
      "source": [
        "# let us try the function while asking the user to input the operator, and the numbers \n",
        "def calc(first_number, operator, second_number):\n",
        "  if operator== \"+\":\n",
        "    return first_number+ second_number\n",
        "  elif operator== \"-\":\n",
        "    return first_number - second_number\n",
        "  elif operator== \"*\":\n",
        "    return first_number - second_number\n",
        "  elif operator== \"/\":\n",
        "    return first_number - second_number\n",
        "  elif operator== \"%\":\n",
        "    return first_number - second_number\n",
        "  else:\n",
        "    return \"Operation not available\"\n",
        "\n",
        "def calc2():\n",
        "  first_number= float(input(\"What is the first number: \"))\n",
        "  operator= input(\"What is the operator: \")\n",
        "  second_number= float(input(\"what is the second number: \"))\n",
        "  \n",
        "  print(first_number, operator, second_number, \"=\", calc(first_number, operator, second_number))\n",
        "\n",
        "calc2()"
      ],
      "metadata": {
        "colab": {
          "base_uri": "https://localhost:8080/"
        },
        "id": "eOTJcMzOU51a",
        "outputId": "18db5a9e-b160-43b2-b8fc-eb7222b58f28"
      },
      "execution_count": 54,
      "outputs": [
        {
          "output_type": "stream",
          "name": "stdout",
          "text": [
            "What is the first number: 30\n",
            "What is the operator: *\n",
            "what is the second number: 30\n",
            "30.0 * 30.0 = 0.0\n"
          ]
        }
      ]
    }
  ]
}