{
  "nbformat": 4,
  "nbformat_minor": 0,
  "metadata": {
    "colab": {
      "provenance": [],
      "authorship_tag": "ABX9TyOkwNt39PxFVPFE1e98pZH5",
      "include_colab_link": true
    },
    "kernelspec": {
      "name": "python3",
      "display_name": "Python 3"
    },
    "language_info": {
      "name": "python"
    }
  },
  "cells": [
    {
      "cell_type": "markdown",
      "metadata": {
        "id": "view-in-github",
        "colab_type": "text"
      },
      "source": [
        "<a href=\"https://colab.research.google.com/github/maina-quinn/python-getting-started/blob/main/classes_in_python.ipynb\" target=\"_parent\"><img src=\"https://colab.research.google.com/assets/colab-badge.svg\" alt=\"Open In Colab\"/></a>"
      ]
    },
    {
      "cell_type": "code",
      "execution_count": null,
      "metadata": {
        "id": "0PO8h1svpewi"
      },
      "outputs": [],
      "source": [
        "# Python is an Object oriented programming(OOP) language And almost everything exist as an object\n",
        "# An object has properties and methods\n",
        "# A class is used to construct object/ create objects\n",
        "class Student:\n",
        "  '''\n",
        "This is a class named Student with the property named first_name\n",
        "  '''\n",
        "  first_name= \"Quinton\""
      ]
    },
    {
      "cell_type": "code",
      "source": [
        "# Classes support 2 kinds of operations: Attribute references and attribute instantiation\n",
        "class Student:\n",
        "  first_name= \"Quinton\"\n",
        "\n",
        "  def get_fullname(self):\n",
        "    return self.first_name\n",
        "# We have created a student class and assigned it 2-attributes: a variable(first_name) and a function(get_fullname)\n",
        "\n",
        "# Student.first_name and Student.get_fullname are valid attribute references returning a string and a function object respectively\n",
        "student= Student()\n",
        "print(student.first_name)\n",
        "# The reference to Student.first_name has returned a string 'Quinton'\n",
        "\n",
        "print(student.get_fullname)\n",
        "# The reference to student.get_fullname has returned a function object(bound method)\n",
        "\n",
        "# To get the value from a bound method or a function object, call the function reference\n",
        "print(student.get_fullname())\n",
        "# The function object call of the method get_fullname returns the first_name('Quinton')"
      ],
      "metadata": {
        "colab": {
          "base_uri": "https://localhost:8080/"
        },
        "id": "J10eYBjguxk_",
        "outputId": "09ba605f-ef08-47c6-fa11-25671b6917d2"
      },
      "execution_count": null,
      "outputs": [
        {
          "output_type": "stream",
          "name": "stdout",
          "text": [
            "Quinton\n",
            "<bound method Student.get_fullname of <__main__.Student object at 0x7ff6dbb5fb80>>\n",
            "Quinton\n"
          ]
        }
      ]
    },
    {
      "cell_type": "code",
      "source": [
        "# NOTE: The self parameter in the function object of a class is a reference to instance of the class, therefore used to access variables/attaributes that belong to that class\n",
        "# The wording self is not sensitive therefore any name can be used in the place of self\n",
        "# However, the chosen name exists as the first parameter of any function in that class\n",
        "class Student:\n",
        "  first_name= \"Quinton\"\n",
        "\n",
        "  def get_fullname(random_name):\n",
        "    return random_name.first_name\n",
        "student= Student()\n",
        "fullname= student.get_fullname()\n",
        "print(fullname)\n",
        "\n",
        "# Even though this works, the standard way to reference a class is to use the self parameter"
      ],
      "metadata": {
        "colab": {
          "base_uri": "https://localhost:8080/"
        },
        "id": "wHgxtlsZ0KRy",
        "outputId": "478c76aa-fe6b-45fa-c27d-60ec3b9fb022"
      },
      "execution_count": null,
      "outputs": [
        {
          "output_type": "stream",
          "name": "stdout",
          "text": [
            "Quinton\n"
          ]
        }
      ]
    },
    {
      "cell_type": "code",
      "source": [
        "# Modifying object properties\n",
        "class Student:\n",
        "  first_name= \"Quinton\"\n",
        "\n",
        "  def get_fullname(self):\n",
        "    return self.first_name\n",
        "student= Student()\n",
        "first_name= student.first_name\n",
        "print(first_name)\n",
        "\n",
        "# To modify the value of a class attribute reference the class attribute and assign it a value\n",
        "student.first_name= \"Maina\"\n",
        "print(student.first_name)\n",
        "print(student.get_fullname())\n",
        "\n",
        "# However, this does not modify the values in the first_name variable above\n",
        "print(first_name)\n",
        "\n",
        "# To modify the value of the variable first_name reference attribute of the class after the assignment\n",
        "student.first_name= \"Mwihaki\"\n",
        "first_name= student.first_name\n",
        "print(first_name)\n",
        "\n",
        "#NOTE: Assigning value to variable first_name does not reflect on student.first_name\n",
        "first_name= \"Mark\"\n",
        "print(student.first_name)"
      ],
      "metadata": {
        "colab": {
          "base_uri": "https://localhost:8080/"
        },
        "id": "JfrlTZa_1AZi",
        "outputId": "def656fe-05a8-4422-c8c4-7f216614695e"
      },
      "execution_count": null,
      "outputs": [
        {
          "output_type": "stream",
          "name": "stdout",
          "text": [
            "Quinton\n",
            "Maina\n",
            "Maina\n",
            "Quinton\n",
            "Mwihaki\n",
            "Mwihaki\n"
          ]
        }
      ]
    },
    {
      "cell_type": "code",
      "source": [
        "# Common Built-in class functions\n",
        "# init\n",
        "# str\n",
        "# doc"
      ],
      "metadata": {
        "id": "ctWWYwLt5evE"
      },
      "execution_count": null,
      "outputs": []
    },
    {
      "cell_type": "code",
      "source": [
        "# Init\n",
        "# All classes in python have built in function __init__() which is always executed when the class is initiated\n",
        "# We Use the __init__() function to assign values to object properties or other operations that are necessary to do when an object is created\n",
        "class Student:\n",
        "  def __init__(self):\n",
        "    self.first_name= \"Quinton\"\n",
        "    self.last_name= \"Maina\"\n",
        "\n",
        "  def get_fullname(self):\n",
        "    return self.first_name+ \" \"+ self.last_name \n",
        "\n",
        "student=Student()\n",
        "print(student.first_name)\n",
        "print(student.last_name)\n",
        "print(student.get_fullname())"
      ],
      "metadata": {
        "colab": {
          "base_uri": "https://localhost:8080/"
        },
        "id": "giACxecp5u6C",
        "outputId": "3851d3d2-0590-4e4a-902c-1e9a17e8912c"
      },
      "execution_count": null,
      "outputs": [
        {
          "output_type": "stream",
          "name": "stdout",
          "text": [
            "Quinton\n",
            "Maina\n",
            "Quinton Maina\n"
          ]
        }
      ]
    },
    {
      "cell_type": "code",
      "source": [
        "# Initializing values using passed values\n",
        "class Student:\n",
        "  def __init__(self, first_name, last_name):\n",
        "    self.first_name= first_name\n",
        "    self.last_name= last_name\n",
        "\n",
        "  def get_fullname(self):\n",
        "    return self.first_name+ \" \"+ self.last_name \n",
        "\n",
        "student=Student(\"Quinton\", \"Maina\")\n",
        "print(student.first_name)\n",
        "print(student.last_name)\n",
        "print(student.get_fullname())"
      ],
      "metadata": {
        "colab": {
          "base_uri": "https://localhost:8080/"
        },
        "id": "tohAbQQQ76ry",
        "outputId": "c9b207c6-a92c-41c7-841a-671ac512f144"
      },
      "execution_count": null,
      "outputs": [
        {
          "output_type": "stream",
          "name": "stdout",
          "text": [
            "Quinton\n",
            "Maina\n",
            "Quinton Maina\n"
          ]
        }
      ]
    },
    {
      "cell_type": "code",
      "source": [
        "class Student:\n",
        "  def __init__(self, first_name, last_name):\n",
        "    self.first_name= first_name\n",
        "    self.last_name= last_name\n",
        "\n",
        "  def get_fullname(self):\n",
        "    return self.first_name+ \" \"+ self.last_name \n",
        "first_name= input(\"Enter the first name: \")\n",
        "last_name= input(\"Enter the last name: \")\n",
        "student=Student(first_name, last_name)\n",
        "print(student.first_name)\n",
        "print(student.last_name)\n",
        "print(student.get_fullname())"
      ],
      "metadata": {
        "colab": {
          "base_uri": "https://localhost:8080/"
        },
        "id": "S_30K9Se8r33",
        "outputId": "8878c3e9-edac-4a06-bd0b-48039dce4dad"
      },
      "execution_count": null,
      "outputs": [
        {
          "output_type": "stream",
          "name": "stdout",
          "text": [
            "Enter the first name: maina\n",
            "Enter the last name: wanjiku\n",
            "maina\n",
            "wanjiku\n",
            "maina wanjiku\n"
          ]
        }
      ]
    },
    {
      "cell_type": "code",
      "source": [
        "# Str\n",
        "# The string representation built-in function, is used to control what should be written when a class object is refrenced as a whole\n",
        "class Student:\n",
        "  pass\n",
        "student= Student()\n",
        "print(student)\n",
        "# This prints the object representation of the student class"
      ],
      "metadata": {
        "colab": {
          "base_uri": "https://localhost:8080/"
        },
        "id": "scDylHHh9vTm",
        "outputId": "7798e13a-1cff-4de1-8a14-4b8af105d8cf"
      },
      "execution_count": null,
      "outputs": [
        {
          "output_type": "stream",
          "name": "stdout",
          "text": [
            "<__main__.Student object at 0x7ff6dbb5e800>\n"
          ]
        }
      ]
    },
    {
      "cell_type": "code",
      "source": [
        "class Student:\n",
        "  def __str__(self):\n",
        "    return \"Student class\"\n",
        "\n",
        "student= Student()\n",
        "print(student)\n",
        "# Prints the defined string representation of the student class which is is the statement \"Student class\""
      ],
      "metadata": {
        "colab": {
          "base_uri": "https://localhost:8080/"
        },
        "id": "ydjyzkzP-xLe",
        "outputId": "f8ae5b16-81e1-43ce-cbd9-293ded6e7570"
      },
      "execution_count": null,
      "outputs": [
        {
          "output_type": "stream",
          "name": "stdout",
          "text": [
            "Student class\n"
          ]
        }
      ]
    },
    {
      "cell_type": "code",
      "source": [
        "# doc\n",
        "# doc is used to print the documentation of the class\n",
        "class Student:\n",
        "  '''\n",
        "  This class is used to set up student details.\n",
        "  '''\n",
        "  pass\n",
        "student= Student()\n",
        "print(student.__doc__)"
      ],
      "metadata": {
        "colab": {
          "base_uri": "https://localhost:8080/"
        },
        "id": "Oh7gjFsw_bv9",
        "outputId": "23a192de-6182-4667-d5e5-263842ac3fb2"
      },
      "execution_count": null,
      "outputs": [
        {
          "output_type": "stream",
          "name": "stdout",
          "text": [
            "\n",
            "  This class is used to set up student details.\n",
            "  \n"
          ]
        }
      ]
    },
    {
      "cell_type": "code",
      "source": [
        "# dict\n",
        "# dict attribute is used to describe the variable attributes of the class\n",
        "class Student:\n",
        "  def __init__(self, first_name, last_name):\n",
        "    self.first_name= first_name\n",
        "    self.last_name= last_name\n",
        "\n",
        "  def get_fullname(self):\n",
        "    return self.first_name+ \" \"+ self.last_name \n",
        "\n",
        "student=Student(\"Quinton\", \"Maina\")\n",
        "print(student.__dict__)"
      ],
      "metadata": {
        "colab": {
          "base_uri": "https://localhost:8080/"
        },
        "id": "-3ofy1IiAecW",
        "outputId": "c20937d0-3e83-41fb-9624-b610026e3414"
      },
      "execution_count": null,
      "outputs": [
        {
          "output_type": "stream",
          "name": "stdout",
          "text": [
            "{'first_name': 'Quinton', 'last_name': 'Maina'}\n"
          ]
        }
      ]
    },
    {
      "cell_type": "code",
      "source": [
        "# Assignment:\n",
        "# create 3-classes each describing a student, teacher, parent. \n",
        "# each class should impliment a get fullname, get contact details, and get address function\n",
        "#similar/common: firstname,last, address, town\n",
        "# age, sports, dorm, \n",
        "# salary, subjects, position\n",
        "# occupation, schoolfees paid\n",
        "# Teacher: get job description/position/subjects\n",
        "# parent: get schoolfees arrears"
      ],
      "metadata": {
        "id": "Q8iYI3F8Byu3"
      },
      "execution_count": null,
      "outputs": []
    },
    {
      "cell_type": "code",
      "source": [
        "class Student:\n",
        "  def __init__(self,first_name, last_name, age, sports, dorm):\n",
        "    self.first_name= first_name\n",
        "    self.last_name= last_name\n",
        "    self.age= age\n",
        "    self.sports= sports\n",
        "    self.dorm= dorm\n",
        "  \n",
        "\n",
        "student= Student(\"Maina\", \"Mwihaki\", 15, \"Softball\", \"Kiru\")\n",
        "print(student.__dict__)\n",
        "\n"
      ],
      "metadata": {
        "id": "XsXbKJgP-M24",
        "colab": {
          "base_uri": "https://localhost:8080/"
        },
        "outputId": "8ca1464d-258d-4627-9da3-e712488d74b5"
      },
      "execution_count": null,
      "outputs": [
        {
          "output_type": "stream",
          "name": "stdout",
          "text": [
            "{'first_name': 'Maina', 'last_name': 'Mwihaki', 'age': 15, 'sports': 'Softball', 'dorm': 'Kiru'}\n",
            "{'first_name': 'Jon', 'last_name': 'Snow', 'salary': 15000, 'subjects': 'Maths&Geo', 'position': 'Senior_Teacher'}\n",
            "{'first_name': 'Kariuki', 'last_name': 'Johnson', 'occupation': 'Investor', 'schoolfees_paid': 17000}\n"
          ]
        }
      ]
    },
    {
      "cell_type": "code",
      "source": [
        "class Teacher:\n",
        "  def __init__(self,first_name, last_name, salary, subjects, position):\n",
        "    self.first_name= first_name\n",
        "    self.last_name= last_name\n",
        "    self.salary= salary\n",
        "    self.subjects= subjects\n",
        "    self.position= position\n",
        "  \n",
        "  def get_job_description(self):\n",
        "    return self.position + \" \"+ self.subjects\n",
        "\n",
        "teacher= Teacher(\"Jon\", \"Snow\", 15000, \"Maths&Geo\", \"Senior_Teacher\")\n",
        "job_description= teacher.get_job_description()\n",
        "print(teacher.__dict__)\n",
        "print(job_description)"
      ],
      "metadata": {
        "colab": {
          "base_uri": "https://localhost:8080/"
        },
        "id": "08bywjP74U2O",
        "outputId": "d97abf76-f31c-4bcc-8dd7-c5637ee2d9eb"
      },
      "execution_count": null,
      "outputs": [
        {
          "output_type": "stream",
          "name": "stdout",
          "text": [
            "{'first_name': 'Jon', 'last_name': 'Snow', 'salary': 15000, 'subjects': 'Maths&Geo', 'position': 'Senior_Teacher'}\n",
            "Senior_Teacher Maths&Geo\n"
          ]
        }
      ]
    },
    {
      "cell_type": "code",
      "source": [
        "class Parent:\n",
        "  def __init__(self,first_name, last_name, occupation, school_fees_paid):\n",
        "    self.first_name= first_name\n",
        "    self.last_name= last_name\n",
        "    self.occupation= occupation\n",
        "    self.school_fees_paid= float(school_fees_paid)\n",
        "    \n",
        "  \n",
        "  def get_school_fees_balance(self):\n",
        "    return 20000- self.school_fees_paid\n",
        "\n",
        "parent= Parent(\"Kariuki\", \"Johnson\", \"Investor\", 17000)\n",
        "school_fees_arrears= parent.get_school_fees_balance()\n",
        "print(parent.__dict__)\n",
        "print(school_fees_arrears)"
      ],
      "metadata": {
        "colab": {
          "base_uri": "https://localhost:8080/"
        },
        "id": "nt799oEl4bIt",
        "outputId": "f010f9ea-b9d4-4835-c760-3f40b375cf10"
      },
      "execution_count": null,
      "outputs": [
        {
          "output_type": "stream",
          "name": "stdout",
          "text": [
            "{'first_name': 'Kariuki', 'last_name': 'Johnson', 'occupation': 'Investor', 'school_fees_paid': 17000.0}\n",
            "3000.0\n"
          ]
        }
      ]
    },
    {
      "cell_type": "code",
      "source": [
        "class Person:\n",
        "  def __init__(self, age, weight, height, first_name, last_name, catch_phrase):\n",
        "    self.age= int(age)\n",
        "    self.weight= float(weight)\n",
        "    self.height= float(height)\n",
        "    self.first_name=first_name\n",
        "    self.last_name= last_name\n",
        "    self.catch_phrase= catch_phrase\n",
        "\n",
        "user= Person(26, 50, 130, \"Snow\", \"White\", \"Go hard, or go home!\")\n",
        "print(user.catch_phrase)"
      ],
      "metadata": {
        "colab": {
          "base_uri": "https://localhost:8080/"
        },
        "id": "iMr4kzTpnp0X",
        "outputId": "a8d94d39-1698-47fd-ba90-94a0d8be9a1c"
      },
      "execution_count": null,
      "outputs": [
        {
          "output_type": "stream",
          "name": "stdout",
          "text": [
            "Go hard, or go home!\n"
          ]
        }
      ]
    },
    {
      "cell_type": "code",
      "source": [
        "class Bottle:\n",
        "  def __init__(self, volume, bottle_type, color):\n",
        "    self.volume= float(volume)\n",
        "    self.bottle_type= bottle_type\n",
        "    self.color= color\n",
        "bottle= Bottle(3, \"wine\", \"white\")\n",
        "print(bottle.__dict__)"
      ],
      "metadata": {
        "colab": {
          "base_uri": "https://localhost:8080/"
        },
        "id": "qW8L9zBAvy6u",
        "outputId": "e805e011-b824-4e0d-d66e-87d0f93444af"
      },
      "execution_count": null,
      "outputs": [
        {
          "output_type": "stream",
          "name": "stdout",
          "text": [
            "{'volume': 3, 'bottle_type': 'wine', 'color': 'white'}\n"
          ]
        }
      ]
    },
    {
      "cell_type": "code",
      "source": [
        "# Inheritance \n",
        "# Inheritance is used to define a class that inherits all methods and properties from another class\n",
        "# The parent class commonly known as base class, is the class being inherited from\n",
        "# The child class(Derived class) is the class that inherits from a parent class.\n",
        "\n",
        "\n",
        "class Student:\n",
        "  def __init__(self, first_name, last_name, other_names, email, sports, dormitory):\n",
        "    self.first_name= first_name\n",
        "    self.last_name= last_name\n",
        "    self.other_names= other_names\n",
        "    self.email= email\n",
        "    self.sports= sports\n",
        "    self.dormitory= dormitory\n",
        " \n",
        "  def get_full_name(self):\n",
        "    return self.first_name + \" \" + self.last_name + \" \" + self.other_names\n",
        "\n",
        "\n",
        "class Teacher:\n",
        "  def __init__(self, first_name, last_name, other_names, email, position, subjects):\n",
        "    self.first_name= first_name\n",
        "    self.last_name= last_name\n",
        "    self.other_names= other_names\n",
        "    self.email= email\n",
        "    self.position= position\n",
        "    self.subjects= subjects\n",
        "\n",
        "  def get_full_name(self):\n",
        "    return self.first_name + \" \" + self.last_name + \" \" + self.other_names\n",
        "\n",
        "  def get_job_description(self):\n",
        "    return self.position + \" \"+ self.subjects\n",
        "\n",
        "\n",
        "class Parent:\n",
        "  def __init__(self, first_name, last_name, other_names, email, occupation, school_fees_paid):\n",
        "    self.first_name= first_name\n",
        "    self.last_name= last_name\n",
        "    self.other_names= other_names\n",
        "    self.email= email\n",
        "    self.occupation= occupation\n",
        "    self.school_fees_paid= school_fees_paid\n",
        "\n",
        "  def get_full_name(self):\n",
        "    return self.first_name + \" \" + self.last_name + \" \" + self.other_names\n",
        "\n",
        "  def get_school_fees_balance(self):\n",
        "    return 20000- self.school_fees_paid\n",
        "\n",
        "# NOTE: Notice that for all 3-classes student, teacher, and parent there are common fields(first_name, last_name, other_names, email) and a common 'get_full_name'"
      ],
      "metadata": {
        "id": "OPWd1xBE6twB"
      },
      "execution_count": null,
      "outputs": []
    },
    {
      "cell_type": "code",
      "source": [
        "# NOTE: the above scenario neccessitates us to have a common class which captures the common fields and the common methods\n",
        "# This common class will the be inherited by the above 3-classes\n",
        "\n",
        "\n",
        "class Person:\n",
        "  def __init__(self, first_name, last_name, other_names, email):\n",
        "    self.first_name= first_name\n",
        "    self.last_name= last_name\n",
        "    self.other_names= other_names\n",
        "    self.email= email\n",
        "\n",
        "  def get_full_name(self):\n",
        "    return \"{} {} {}\".format(self.first_name, self.last_name, self.other_names)\n",
        "\n",
        "# The staff class will inherit person variables and the function 'get_full_name'\n",
        "class Staff(Person):\n",
        "  pass\n",
        "\n",
        "staff= Staff(\"Macharia\", \"Teddy\", \"Machoka\", \"mteddy@gmail.com\")\n",
        "full_name= staff.get_full_name()\n",
        "print(staff.__dict__)\n",
        "print(full_name)\n",
        "\n",
        "\n",
        "\n",
        "class Student(Person):\n",
        "  '''\n",
        "  The Student class will inherit Person variables and the function 'get_full_name'.\n",
        "  However, since the class has its own initialization function, we have to pass an initialization to the Person class \n",
        "  '''\n",
        "  def __init__(self, first_name, last_name, other_names, email, sports, dormitory):\n",
        "    Person.__init__(self, first_name, last_name, other_names, email)\n",
        "    self.sports= sports\n",
        "    self.dormitory= dormitory\n",
        "\n",
        "\n",
        "class Teacher(Person):\n",
        "  '''\n",
        "  The Teacher class will inherit Person variables and the function 'get_full_name'.\n",
        "  However, since the class has its own initialization function, we have to pass an initialization to the Person class \n",
        "  '''\n",
        "  def __init__(self, first_name, last_name, other_names, email, position, subjects):\n",
        "    Person.__init__(self, first_name, last_name, other_names, email)\n",
        "    self.position= position\n",
        "    self.subjects= subjects\n",
        "\n",
        "  def get_job_description(self):\n",
        "    return self.position + \" \"+ self.subjects\n",
        "\n",
        "\n",
        "class Parent(Person):\n",
        "  def __init__(self, first_name, last_name, other_names, email, occupation, school_fees_paid):\n",
        "    Person.__init__(self, first_name, last_name, other_names, email)\n",
        "    self.occupation= occupation\n",
        "    self.school_fees_paid= school_fees_paid\n",
        "\n",
        "  def get_school_fees_balance(self):\n",
        "    return 20000- self.school_fees_paid\n",
        "\n",
        "student= Student(\"Maina\", \"Wanjiku\", \"Eddy\", \"eddy@gamil.com\", \"Tennis\", \"Kiru\")\n",
        "print(student.__dict__)\n",
        "full_name= student.get_full_name()\n",
        "print(full_name)\n",
        "\n",
        "teacher= Teacher(\"Sam\", \"Gituku\", \"Mwaura\", \"samg@gmail.com\", \"Senior_Teacher\", \"English& Bio\")\n",
        "job_description= teacher.get_job_description()\n",
        "full_name= teacher.get_full_name()\n",
        "print(teacher.__dict__)\n",
        "print(full_name)\n",
        "print(job_description)\n",
        "\n",
        "parent= Parent(\"Sue\", \"Wamaitha\", \"Mungai\", \"smungai@gmail.com\", \"Investor\", 17000)\n",
        "print(parent.__dict__)\n",
        "full_name= parent.get_full_name()\n",
        "print(full_name)\n",
        "school_fees_arrears= parent.get_school_fees_balance()\n",
        "print(school_fees_arrears)"
      ],
      "metadata": {
        "colab": {
          "base_uri": "https://localhost:8080/"
        },
        "id": "RMRqhLcJ-9_z",
        "outputId": "201ff059-4611-4d1b-8345-4bff621bc398"
      },
      "execution_count": null,
      "outputs": [
        {
          "output_type": "stream",
          "name": "stdout",
          "text": [
            "{'first_name': 'Macharia', 'last_name': 'Teddy', 'other_names': 'Machoka', 'email': 'mteddy@gmail.com'}\n",
            "Macharia Teddy Machoka\n",
            "{'first_name': 'Maina', 'last_name': 'Wanjiku', 'other_names': 'Eddy', 'email': 'eddy@gamil.com', 'sports': 'Tennis', 'dormitory': 'Kiru'}\n",
            "Maina Wanjiku Eddy\n",
            "{'first_name': 'Sam', 'last_name': 'Gituku', 'other_names': 'Mwaura', 'email': 'samg@gmail.com', 'position': 'Senior_Teacher', 'subjects': 'English& Bio'}\n",
            "Sam Gituku Mwaura\n",
            "Senior_Teacher English& Bio\n",
            "{'first_name': 'Sue', 'last_name': 'Wamaitha', 'other_names': 'Mungai', 'email': 'smungai@gmail.com', 'occupation': 'Investor', 'school_fees_paid': 17000}\n",
            "Sue Wamaitha Mungai\n",
            "3000\n"
          ]
        }
      ]
    },
    {
      "cell_type": "code",
      "source": [
        "# EXERCISE: vehicle hiring service\n",
        "# Create a class vehicle that impliments\n",
        "# The portfolio has; cars, lorry, buses\n",
        "# common functionalities; get: balance payment given deposit, total cost given number of days and pricing, \n",
        "#                              estimated budget for client given distance covered and vehicle's fuel consumption, vehicle description\n",
        "\n",
        "\n",
        "class Vehicle:\n",
        "  def __init__(self, license_plate, insurance_provider, manufacturer, production_year, deposit, pricing, number_of_days_hired):\n",
        "    self.license_plate= license_plate\n",
        "    self.insurance_provider= insurance_provider\n",
        "    self.manufacturer= manufacturer\n",
        "    self.production_year= production_year\n",
        "    self.deposit= deposit\n",
        "    self.pricing= pricing\n",
        "    self.number_of_days_hired= number_of_days_hired\n",
        "\n",
        "\n",
        "  def get_balance(self):\n",
        "    total_amount= self.number_of_days_hired * self.pricing\n",
        "    return total_amount - self.deposit\n",
        "\n",
        "\n",
        "class Car(Vehicle):\n",
        "  def __init__(self, license_plate, insurance_provider, manufacturer, production_year, deposit, pricing, number_of_days_hired, vehicle_type, services):\n",
        "    Vehicle.__init__(self, license_plate, insurance_provider, manufacturer, production_year, deposit, pricing, number_of_days_hired)\n",
        "    self.vehicle_type= vehicle_type\n",
        "    self.services= services\n",
        "\n",
        "\n",
        "class Lorry(Vehicle):\n",
        "  def __init__(self, license_plate, insurance_provider, manufacturer, production_year, deposit, pricing, number_of_days_hired, route, drivers_name):\n",
        "    Vehicle.__init__(self, license_plate, insurance_provider, manufacturer, production_year, deposit, pricing, number_of_days_hired)\n",
        "    self.route= route\n",
        "    self.drivers_name= drivers_name\n",
        "\n",
        "  def get_route_and_driver(self):\n",
        "    return \"{} {}\".format(self.drivers_name,self.route)\n",
        "\n",
        "\n",
        "class Bus(Vehicle):\n",
        "  def __init__(self, license_plate, insurance_provider, manufacturer, production_year, deposit, pricing, number_of_days_hired, sacco, owner):\n",
        "    Vehicle.__init__(self, license_plate, insurance_provider, manufacturer, production_year, deposit, pricing, number_of_days_hired)\n",
        "    self.owner= owner\n",
        "    self.sacco= sacco\n",
        "\n",
        "  def get_sacco(self):\n",
        "    return \"{} {}\".format(self.owner,self.sacco)\n",
        "\n",
        "\n",
        "car= Car(\"KBP\",\"Direct line\", \"Honda\", 2009, 5000, 1000, 10, \"Sedan\", \"Uber\")\n",
        "print(car.__dict__)\n",
        "balance= car.get_balance()\n",
        "print(\"The pending balance for the car is: \", balance)\n",
        "\n",
        "lorry= Lorry(\"KBS\",\"UAP\", \"Isuzu\", 2006, 15000, 2000, 40, \"Kikuyu\", \"Jon Snow:\")\n",
        "print(lorry.__dict__)\n",
        "balance= lorry.get_balance()\n",
        "print(\"The pending balance for the car is: \", balance)\n",
        "route_and_driver= lorry.get_route_and_driver()\n",
        "print(\"The drivers' name and route are: \", route_and_driver)\n",
        "\n",
        "bus= Bus(\"KCY\",\"Britam\", \"Toyota\", 2010, 17000, 2500, 23, \"Metro\", \"Allan Virgil:\")\n",
        "print(lorry.__dict__)\n",
        "balance= bus.get_balance()\n",
        "print(\"The pending balance for the car is: \", balance)\n",
        "owner_and_sacco= bus.get_sacco()\n",
        "print(\"The owners' name and sacco are: \", owner_and_sacco)"
      ],
      "metadata": {
        "colab": {
          "base_uri": "https://localhost:8080/"
        },
        "id": "tIE7R3zBHpmB",
        "outputId": "99eacb45-3b29-47f7-d1bd-38d0811d6320"
      },
      "execution_count": null,
      "outputs": [
        {
          "output_type": "stream",
          "name": "stdout",
          "text": [
            "{'license_plate': 'KBP', 'insurance_provider': 'Direct line', 'manufacturer': 'Honda', 'production_year': 2009, 'deposit': 5000, 'pricing': 1000, 'number_of_days_hired': 10, 'vehicle_type': 'Sedan', 'services': 'Uber'}\n",
            "The pending balance for the car is:  5000\n",
            "{'license_plate': 'KBS', 'insurance_provider': 'UAP', 'manufacturer': 'Isuzu', 'production_year': 2006, 'deposit': 15000, 'pricing': 2000, 'number_of_days_hired': 40, 'route': 'Kikuyu', 'drivers_name': 'Jon Snow:'}\n",
            "The pending balance for the car is:  65000\n",
            "The drivers' name and route are:  Jon Snow: Kikuyu\n",
            "{'license_plate': 'KBS', 'insurance_provider': 'UAP', 'manufacturer': 'Isuzu', 'production_year': 2006, 'deposit': 15000, 'pricing': 2000, 'number_of_days_hired': 40, 'route': 'Kikuyu', 'drivers_name': 'Jon Snow:'}\n",
            "The pending balance for the car is:  40500\n",
            "The owners' name and sacco are:  Allan Virgil: Metro\n"
          ]
        }
      ]
    },
    {
      "cell_type": "code",
      "source": [
        "# Polymorphism\n",
        "# Polymorphism is simply taking many forms and in programming,\n",
        "# it means a function/method/operator that can be executed on many different objects or classes but still keeping its storage in a name\n",
        "# an example is: 'len'\n",
        "# 'len' of a string \n",
        "print(len(\"Quinton\"))\n",
        "\n",
        "# 'len' of a list\n",
        "fruits= [\"Orange\", \"Pears\", \"Avocado\", \"Pineapple\"]\n",
        "print(len(fruits))\n",
        "\n",
        "# 'len' of a tuple\n",
        "vehicles= (\"cars\", \"lorries\", \"buses\", \"tractors\", \"Suvs\")\n",
        "print(len(vehicles))\n",
        "\n",
        "# 'len' of a dict\n",
        "bio_data= {\"first_name\": \"Trent\", \"last_name\": \"Anderson\", \"age\": 24, \"school\": \"mirema\"}\n",
        "print(len(bio_data))"
      ],
      "metadata": {
        "colab": {
          "base_uri": "https://localhost:8080/"
        },
        "id": "_P5PsCu28fOK",
        "outputId": "e3bc7fa0-4385-4769-e6c2-8262d3b0336a"
      },
      "execution_count": null,
      "outputs": [
        {
          "output_type": "stream",
          "name": "stdout",
          "text": [
            "7\n",
            "4\n",
            "5\n",
            "4\n"
          ]
        }
      ]
    },
    {
      "cell_type": "code",
      "source": [
        "class Car:\n",
        "  def get_vehicle_type(self):\n",
        "    return \"car\"\n",
        "\n",
        "class Bus:\n",
        "  def get_vehicle_type(self):\n",
        "    return \"bus\"\n",
        "\n",
        "class Lorry:\n",
        "  def get_vehicle_type(self):\n",
        "    return \"Lorry\"\n",
        "\n",
        "car= Car()\n",
        "print(car.get_vehicle_type())\n",
        "\n",
        "bus= Bus()\n",
        "print(bus.get_vehicle_type())\n",
        "\n",
        "lorry= Lorry()\n",
        "print(lorry.get_vehicle_type())\n",
        "\n",
        "# The 'get_vehicle_type' functionality exists as a polymorph in the above "
      ],
      "metadata": {
        "colab": {
          "base_uri": "https://localhost:8080/"
        },
        "id": "XzXPOLEY_615",
        "outputId": "b457dc37-896e-46c7-d23a-057d1ecd9961"
      },
      "execution_count": null,
      "outputs": [
        {
          "output_type": "stream",
          "name": "stdout",
          "text": [
            "car\n",
            "bus\n",
            "Lorry\n"
          ]
        }
      ]
    },
    {
      "cell_type": "code",
      "source": [
        "# Polymorphism and Inheritance\n",
        "class Vehicle:\n",
        "  def __init__(self, vehicle_type):\n",
        "    self.vehicle_type= vehicle_type\n",
        "\n",
        "  def get_vehicle_type(self):\n",
        "    return self.vehicle_type\n",
        "\n",
        "\n",
        "class Car(Vehicle):\n",
        "  def __init__(self, vehicle_type):\n",
        "    Vehicle.__init__(self, vehicle_type)\n",
        "\n",
        "\n",
        "class Lorry(Vehicle):\n",
        "  def __init__(self, vehicle_type):\n",
        "    Vehicle.__init__(self, vehicle_type)\n",
        "\n",
        "  def get_vehicle_type(self):\n",
        "    return \"Overidden to return: Canter\"\n",
        "\n",
        "\n",
        "class Bus(Vehicle):\n",
        "  def __init__(self, vehicle_type):\n",
        "    Vehicle.__init__(self, vehicle_type)\n",
        "\n",
        "car= Car(\"Car\")\n",
        "print(car.get_vehicle_type())\n",
        "\n",
        "lorry= Lorry(\"Lorry\")\n",
        "print(lorry.get_vehicle_type())  # This returns the overriden value of the get_vehicle_type function\n",
        "\n",
        "bus= Bus(\"Bus\")\n",
        "print(bus.get_vehicle_type())\n",
        "\n",
        "# Since the get_vehicle_type is inherited, it exists as a polymorph in the car, lorry, bus classes\n",
        "# The function can be overriden to return a different value than the one specified in the parent class as the case in lorry class"
      ],
      "metadata": {
        "id": "Ubju7ivqCLZM",
        "colab": {
          "base_uri": "https://localhost:8080/"
        },
        "outputId": "c55bbcf3-9a27-4545-cb5f-631a4c7c1da5"
      },
      "execution_count": null,
      "outputs": [
        {
          "output_type": "stream",
          "name": "stdout",
          "text": [
            "Car\n",
            "Overidden to return: Canter\n",
            "Bus\n"
          ]
        }
      ]
    },
    {
      "cell_type": "code",
      "source": [
        "# exercise:\n",
        "# classes; proteins, carbohydrates, vitamins\n",
        "# common functionality; returns: their decription(e.g protective foods)\n",
        "\n",
        "\n",
        "class Protein:\n",
        "  def __init__(self, food_type):\n",
        "    self.food_type= food_type\n",
        "\n",
        "  def get_food_description(self):\n",
        "    return \"Body building food\"\n",
        "\n",
        "\n",
        "class Carbohydrates:\n",
        "  def __init__(self, food_type):\n",
        "    self.food_type= food_type\n",
        "\n",
        "  def get_food_description(self):\n",
        "    return \"Energy giving food\"\n",
        "\n",
        "\n",
        "class Vitamins:\n",
        "  def __init__(self, food_type):\n",
        "    self.food_type= food_type\n",
        "\n",
        "  def get_food_description(self):\n",
        "    return \"Protective food\"\n",
        "\n",
        "proteins= Protein(\"Proteins\")\n",
        "food_description= proteins.get_food_description()\n",
        "print(\"Proteins are: \", food_description)\n",
        "\n",
        "carbohydrates= Carbohydrates(\"carbohydrates\")\n",
        "food_description= carbohydrates.get_food_description()\n",
        "print(\"Carbohydrates are: \", food_description)\n",
        "\n",
        "vitamins= Vitamins(\"Vitamins\")\n",
        "food_description= vitamins.get_food_description()\n",
        "print(\"Vitamins are: \", food_description)"
      ],
      "metadata": {
        "colab": {
          "base_uri": "https://localhost:8080/"
        },
        "id": "6KYtN2U6HyrI",
        "outputId": "8c735917-9fbf-4876-c659-cc59790bfb06"
      },
      "execution_count": null,
      "outputs": [
        {
          "output_type": "stream",
          "name": "stdout",
          "text": [
            "Proteins are:  Body building food\n",
            "Carbohydrates are:  Energy giving food\n",
            "Vitamins are:  Protective food\n"
          ]
        }
      ]
    },
    {
      "cell_type": "code",
      "source": [
        "# Exercise:\n",
        "# Case2: Impliment inheritance and overide the get description in the Vitamins class\n",
        "\n",
        "class Food:\n",
        "  def __init__(self,food_category):\n",
        "    self.food_category= food_category\n",
        "\n",
        "  def get_food_category(self):\n",
        "    return self.food_category\n",
        "\n",
        "class Protein(Food):\n",
        "  def __init__(self, food_category):\n",
        "    Food.__init__(self,food_category)\n",
        "\n",
        "class Carbohydrate(Food):\n",
        "  def __init__(self, food_category):\n",
        "    Food.__init__(self,food_category)\n",
        "\n",
        "class Vitamin(Food):\n",
        "  def __init__(self, food_category):\n",
        "    Food.__init__(self,food_category)\n",
        "\n",
        "  def get_food_category(self):\n",
        "    return \"The vegetables are also in this category\"\n",
        "\n",
        "proteins= Protein(\"Body building food\")\n",
        "food_descr= proteins.get_food_category()\n",
        "print(\"Proteins are: \", food_descr)\n",
        "\n",
        "carbohydratess= Carbohydrate(\"Energy Food\")\n",
        "food_descr= carbohydratess.get_food_category()\n",
        "print(\"Carbohydrates are: \", food_descr)\n",
        "\n",
        "vitaminss= Vitamin(\"Protective food\")\n",
        "food_descr= vitaminss.get_food_category()\n",
        "print(\"Vitamins are: \", food_descr)"
      ],
      "metadata": {
        "colab": {
          "base_uri": "https://localhost:8080/"
        },
        "id": "UXx2awVPmK4y",
        "outputId": "ecd27937-4c2d-4bac-bdfe-bce7ad3ea4b8"
      },
      "execution_count": null,
      "outputs": [
        {
          "output_type": "stream",
          "name": "stdout",
          "text": [
            "Proteins are:  Body building food\n",
            "Carbohydrates are:  Energy Food\n",
            "Vitamins are:  The vegetables are also in this category\n"
          ]
        }
      ]
    }
  ]
}