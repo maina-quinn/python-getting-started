{
  "nbformat": 4,
  "nbformat_minor": 0,
  "metadata": {
    "colab": {
      "provenance": [],
      "authorship_tag": "ABX9TyMZon6eHQBwWRxPyEZ66Ifb",
      "include_colab_link": true
    },
    "kernelspec": {
      "name": "python3",
      "display_name": "Python 3"
    },
    "language_info": {
      "name": "python"
    }
  },
  "cells": [
    {
      "cell_type": "markdown",
      "metadata": {
        "id": "view-in-github",
        "colab_type": "text"
      },
      "source": [
        "<a href=\"https://colab.research.google.com/github/maina-quinn/python-getting-started/blob/main/arithmetic_and_logic_functions.ipynb\" target=\"_parent\"><img src=\"https://colab.research.google.com/assets/colab-badge.svg\" alt=\"Open In Colab\"/></a>"
      ]
    },
    {
      "cell_type": "code",
      "source": [
        "# Maths functions\n",
        "\n",
        "# Addition/sum\n",
        "a= 45\n",
        "b= 78\n",
        "c= a+b\n",
        "print(c)"
      ],
      "metadata": {
        "colab": {
          "base_uri": "https://localhost:8080/"
        },
        "id": "IxCW7roH-9Yk",
        "outputId": "06f96f78-4ce5-4eb1-dd8c-aea8741c213a"
      },
      "execution_count": null,
      "outputs": [
        {
          "output_type": "stream",
          "name": "stdout",
          "text": [
            "123\n"
          ]
        }
      ]
    },
    {
      "cell_type": "code",
      "source": [
        "# Subtraction \n",
        "a= 70\n",
        "b= 23\n",
        "c= a-b\n",
        "print(c)"
      ],
      "metadata": {
        "colab": {
          "base_uri": "https://localhost:8080/"
        },
        "id": "2ZPEWdGp_cpl",
        "outputId": "a9b8078f-c7ec-41dc-d11d-543159b537e0"
      },
      "execution_count": null,
      "outputs": [
        {
          "output_type": "stream",
          "name": "stdout",
          "text": [
            "47\n"
          ]
        }
      ]
    },
    {
      "cell_type": "code",
      "source": [
        "# Multiplication \n",
        "a= 45\n",
        "b= 28\n",
        "c= a*b\n",
        "print(c)"
      ],
      "metadata": {
        "colab": {
          "base_uri": "https://localhost:8080/"
        },
        "id": "OPCu4xr2_o4G",
        "outputId": "417248fb-a7f6-402b-ee20-ecff26c64833"
      },
      "execution_count": null,
      "outputs": [
        {
          "output_type": "stream",
          "name": "stdout",
          "text": [
            "1260\n"
          ]
        }
      ]
    },
    {
      "cell_type": "code",
      "source": [
        "# Division\n",
        "a= 56\n",
        "b= 42\n",
        "c= a/b\n",
        "print(c)"
      ],
      "metadata": {
        "colab": {
          "base_uri": "https://localhost:8080/"
        },
        "id": "iRjhaedv_2-b",
        "outputId": "298682cd-1205-4ce5-b112-65d71dfe1010"
      },
      "execution_count": null,
      "outputs": [
        {
          "output_type": "stream",
          "name": "stdout",
          "text": [
            "1.3333333333333333\n"
          ]
        }
      ]
    },
    {
      "cell_type": "code",
      "source": [
        "# Modulus\n",
        "a= 3588\n",
        "b= 59\n",
        "c=a%b\n",
        "print(c)"
      ],
      "metadata": {
        "colab": {
          "base_uri": "https://localhost:8080/"
        },
        "id": "8CGGEDYCAGhS",
        "outputId": "7ac16bdd-9e23-43d4-a8fa-99646dbad535"
      },
      "execution_count": null,
      "outputs": [
        {
          "output_type": "stream",
          "name": "stdout",
          "text": [
            "48\n"
          ]
        }
      ]
    },
    {
      "cell_type": "code",
      "source": [
        "# Conditionals\n",
        "# If \n",
        "first_name= input(\"Enter first name: \")\n",
        "if first_name== \"Dan\":\n",
        "  print(\"user \",first_name, \" found\")\n",
        "\n"
      ],
      "metadata": {
        "colab": {
          "base_uri": "https://localhost:8080/"
        },
        "id": "zaAUkmoAAfXI",
        "outputId": "1761d2f0-d0c9-4c0a-a612-e4538bcfefec"
      },
      "execution_count": null,
      "outputs": [
        {
          "output_type": "stream",
          "name": "stdout",
          "text": [
            "Enter first name: Dan\n",
            "user  Dan  found\n",
            "Enter the First name: Dan\n",
            "user  Dan  found\n"
          ]
        }
      ]
    },
    {
      "cell_type": "code",
      "source": [
        "# If else\n",
        "first_name= input(\"Enter the First name: \")\n",
        "if first_name == \"Dan\":\n",
        "  print(\"user \", first_name, \" found\")\n",
        "else:\n",
        "  print(first_name, \" was not found as a user\")"
      ],
      "metadata": {
        "colab": {
          "base_uri": "https://localhost:8080/"
        },
        "id": "pVLJNIiCF9yk",
        "outputId": "b5e561cf-fdd4-4fe1-b59d-c19892182f22"
      },
      "execution_count": null,
      "outputs": [
        {
          "output_type": "stream",
          "name": "stdout",
          "text": [
            "Enter the First name: eddie\n",
            "eddie  was not found as a user\n"
          ]
        }
      ]
    },
    {
      "cell_type": "code",
      "source": [
        "# Else if\n",
        "first_name= input(\"Enter the First name: \")\n",
        "if first_name == \"Dan\":\n",
        "  print(\"Admin user \", first_name, \" found\")\n",
        "elif first_name == \"Rocky\":\n",
        "  print(\"Staff user \", first_name, \" found\")\n",
        "else:\n",
        "  print(first_name, \" was not found as a user\")\n"
      ],
      "metadata": {
        "colab": {
          "base_uri": "https://localhost:8080/"
        },
        "id": "FRmAForbGDib",
        "outputId": "36b7449a-2ec6-4087-e9d2-855f2c3bfbb9"
      },
      "execution_count": null,
      "outputs": [
        {
          "output_type": "stream",
          "name": "stdout",
          "text": [
            "Enter the First name: grim \n",
            "grim   was not found as a user\n"
          ]
        }
      ]
    },
    {
      "cell_type": "code",
      "source": [
        "# Using python functions\n",
        "def hello():\n",
        "  print(\"Hello Quinton\")\n",
        "\n",
        "hello()"
      ],
      "metadata": {
        "colab": {
          "base_uri": "https://localhost:8080/"
        },
        "id": "5hbjyKHdHJ2x",
        "outputId": "97e1ddc3-69b5-410f-db44-120921a081ff"
      },
      "execution_count": null,
      "outputs": [
        {
          "output_type": "stream",
          "name": "stdout",
          "text": [
            "Hello Quinton\n"
          ]
        }
      ]
    },
    {
      "cell_type": "code",
      "source": [
        "# Call hello to take input from a user\n",
        "def hello():\n",
        "  name= input(\"Enter your name: \")\n",
        "  print(\"Hello \", name)\n",
        "hello()"
      ],
      "metadata": {
        "colab": {
          "base_uri": "https://localhost:8080/"
        },
        "id": "kfSaTHdfH5yI",
        "outputId": "cbef2a71-f163-4799-8187-131a287faaa3"
      },
      "execution_count": null,
      "outputs": [
        {
          "output_type": "stream",
          "name": "stdout",
          "text": [
            "Enter your name: Daniel\n",
            "Hello  Daniel\n"
          ]
        }
      ]
    },
    {
      "cell_type": "code",
      "source": [
        "# Call hello passing the name as an argument(arg)\n",
        "def hello(name):\n",
        "  print(\"Hello \", name)\n",
        "hello(\"Dan\")"
      ],
      "metadata": {
        "colab": {
          "base_uri": "https://localhost:8080/"
        },
        "id": "4eC4VGahIXD9",
        "outputId": "d559093b-06f1-43ab-e0c0-bbf7ba13fbec"
      },
      "execution_count": null,
      "outputs": [
        {
          "output_type": "stream",
          "name": "stdout",
          "text": [
            "Hello  Dan\n"
          ]
        }
      ]
    },
    {
      "cell_type": "code",
      "source": [
        "# Call hello, passing multiple arguments\n",
        "def hello(first_name, last_name, other_names, age):\n",
        "  print(\"Hello \", first_name, last_name, other_names)\n",
        "  print(\"You are \", age, \" years old\")\n",
        "hello(\"Daniel\", \"Maina\", \"Mwihaki\", 34)"
      ],
      "metadata": {
        "colab": {
          "base_uri": "https://localhost:8080/"
        },
        "id": "Gp4V0NDWIylZ",
        "outputId": "a6c92424-5958-467f-9787-f21eef625f8f"
      },
      "execution_count": null,
      "outputs": [
        {
          "output_type": "stream",
          "name": "stdout",
          "text": [
            "Hello  Daniel Maina Mwihaki\n",
            "You are  34  years old\n"
          ]
        }
      ]
    },
    {
      "cell_type": "code",
      "source": [
        "# Addition function\n",
        "print(sum([2,5]))\n"
      ],
      "metadata": {
        "colab": {
          "base_uri": "https://localhost:8080/"
        },
        "id": "tEIdaJKKKA3z",
        "outputId": "2916e728-e52c-4bd0-9d17-408f8a99db13"
      },
      "execution_count": null,
      "outputs": [
        {
          "output_type": "stream",
          "name": "stdout",
          "text": [
            "7\n"
          ]
        }
      ]
    },
    {
      "cell_type": "code",
      "source": [
        "# addition function\n",
        "def add(a,b):\n",
        "  print(a+b)\n",
        "\n",
        "def subtract(a,b):\n",
        "  print(a-b)\n",
        "\n",
        "def multiply(a,b):\n",
        "  print(a*b)\n",
        "\n",
        "def divide(a,b):\n",
        "  print(a/b)\n",
        "\n",
        "def modulus(a,b):\n",
        "  print(a%b)\n",
        "\n",
        "add(34,56)\n",
        "subtract(56,462)\n",
        "multiply(34,78)\n",
        "divide(90,46)\n",
        "modulus(56,34)"
      ],
      "metadata": {
        "colab": {
          "base_uri": "https://localhost:8080/"
        },
        "id": "1b9HHoNoKZjN",
        "outputId": "c73830ff-fb76-424c-adff-3e13ba693699"
      },
      "execution_count": null,
      "outputs": [
        {
          "output_type": "stream",
          "name": "stdout",
          "text": [
            "90\n",
            "-406\n",
            "2652\n",
            "1.9565217391304348\n",
            "22\n"
          ]
        }
      ]
    },
    {
      "cell_type": "code",
      "source": [
        "# Math functions with return values\n",
        "def add(a,b):\n",
        "  return a+b\n",
        "\n",
        "def subtract(a,b):\n",
        "  return a-b\n",
        "\n",
        "def multiply(a,b):\n",
        "  return a*b\n",
        "\n",
        "def divide(a,b):\n",
        "  return a/b\n",
        "\n",
        "def modulus(a,b):\n",
        "  return a/b\n",
        "\n",
        "print(add(34,78))\n",
        "print(subtract(57,24))\n",
        "print(multiply(24,67))\n",
        "print(divide(45,24))\n",
        "print(modulus(96,27))"
      ],
      "metadata": {
        "colab": {
          "base_uri": "https://localhost:8080/"
        },
        "id": "DNNXgv5kLvOP",
        "outputId": "9d88063a-6266-445e-c086-8e7f7fb7ef8d"
      },
      "execution_count": null,
      "outputs": [
        {
          "output_type": "stream",
          "name": "stdout",
          "text": [
            "112\n",
            "33\n",
            "1608\n",
            "1.875\n",
            "3.5555555555555554\n"
          ]
        }
      ]
    },
    {
      "cell_type": "code",
      "source": [
        "# Calculator function\n",
        "def calc(operation, a, b):\n",
        "  if operation== \"ADD\":\n",
        "    result= a+b\n",
        "    print(result)\n",
        "  elif operation== \"SUBTRACT\":\n",
        "    result= a-b\n",
        "    print(result)\n",
        "  elif operation== \"MULTIPLY\":\n",
        "    result= a*b\n",
        "    print(result)\n",
        "  elif operation== \"DIVIDE\":\n",
        "    result= a/b\n",
        "    print(result)\n",
        "  elif operation== \"MODULUS\":\n",
        "    result= a%b\n",
        "    print(result)\n",
        "  else:\n",
        "    print(\"Operation not available\")\n",
        "\n",
        "calc(\"ADD\", 3, 5)\n",
        "calc(\"SUBTRACT\", 3, 5)\n",
        "calc(\"MULTIPLY\", 3, 5)\n",
        "calc(\"DIVIDE\", 3, 5)\n",
        "calc(\"MODULUS\", 3, 5)\n",
        "calc(\"NONE\", 3, 5)"
      ],
      "metadata": {
        "colab": {
          "base_uri": "https://localhost:8080/"
        },
        "id": "ScDdBqUoQnXA",
        "outputId": "db71cc24-8995-48f5-e8c6-c1e9c6f428bf"
      },
      "execution_count": null,
      "outputs": [
        {
          "output_type": "stream",
          "name": "stdout",
          "text": [
            "8\n",
            "-2\n",
            "15\n",
            "0.6\n",
            "3\n",
            "Operation not available\n"
          ]
        }
      ]
    },
    {
      "cell_type": "code",
      "source": [
        "# Calculator function reusing existing functions\n",
        "def add(first_number,second_number):\n",
        "  return first_number + second_number\n",
        "\n",
        "def subtract(first_number,second_number):\n",
        "  return first_number - second_number\n",
        "\n",
        "def multiply(first_number,second_number):\n",
        "  return first_number * second_number\n",
        "\n",
        "def divide(first_number,second_number):\n",
        "  return first_number / second_number\n",
        "\n",
        "def modulus(first_number,second_number):\n",
        "  return first_number % second_number\n",
        "\n",
        "def calc2():\n",
        "  a= float(input(\"what is the first number? \"))\n",
        "  operation= input(\"what is the operation \")\n",
        "  b= float(input(\"what is the second number? \"))\n",
        "\n",
        "  if operation== \"+\":\n",
        "    result= add(a, b)\n",
        "    print(result)\n",
        "  elif operation== \"-\":\n",
        "    result= subtract(a, b)\n",
        "    print(result)\n",
        "  elif operation== \"*\":\n",
        "    result= multiply(a, b)\n",
        "    print(result)\n",
        "  elif operation== \"/\":\n",
        "    result= divide(a, b)\n",
        "    print(result)\n",
        "  elif operation== \"%\":\n",
        "    result= modulus(a, b)\n",
        "    print(result)\n",
        "  else:\n",
        "    print(\"Operation not available\")\n",
        "\n",
        "calc2()\n",
        "\n",
        "def calc(operation, a, b):\n",
        "  if operation== \"ADD\":\n",
        "    result= add(a, b)\n",
        "    print(result)\n",
        "  elif operation== \"SUBTRACT\":\n",
        "    result= subtract(a, b)\n",
        "    print(result)\n",
        "  elif operation== \"MULTIPLY\":\n",
        "    result= multiply(a, b)\n",
        "    print(result)\n",
        "  elif operation== \"DIVIDE\":\n",
        "    result= divide(a, b)\n",
        "    print(result)\n",
        "  elif operation== \"MODULUS\":\n",
        "    result= modulus(a, b)\n",
        "    print(result)\n",
        "  else:\n",
        "    print(\"Operation not available\")\n",
        "\n",
        "'''\n",
        "calc(\"ADD\", 3, 5)\n",
        "calc(\"SUBTRACT\", 3, 5)\n",
        "calc(\"MULTIPLY\", 3, 5)\n",
        "calc(\"DIVIDE\", 3, 5)\n",
        "calc(\"MODULUS\", 3, 5)\n",
        "calc(\"NONE\", 3, 5)\n",
        "'''\n"
      ],
      "metadata": {
        "colab": {
          "base_uri": "https://localhost:8080/",
          "height": 105
        },
        "id": "E2VLZu4YtZb0",
        "outputId": "b039a8ed-13cd-41c2-d299-19453cd6f625"
      },
      "execution_count": null,
      "outputs": [
        {
          "output_type": "stream",
          "name": "stdout",
          "text": [
            "what is the first number? 30\n",
            "what is the operation /\n",
            "what is the second number? 6\n",
            "5.0\n"
          ]
        },
        {
          "output_type": "execute_result",
          "data": {
            "text/plain": [
              "'\\ncalc(\"ADD\", 3, 5)\\ncalc(\"SUBTRACT\", 3, 5)\\ncalc(\"MULTIPLY\", 3, 5)\\ncalc(\"DIVIDE\", 3, 5)\\ncalc(\"MODULUS\", 3, 5)\\ncalc(\"NONE\", 3, 5)\\n'"
            ],
            "application/vnd.google.colaboratory.intrinsic+json": {
              "type": "string"
            }
          },
          "metadata": {},
          "execution_count": 7
        }
      ]
    },
    {
      "cell_type": "code",
      "source": [
        "# let us try the function while asking the user to input the operator, and the numbers \n",
        "def calc(first_number, operator, second_number):\n",
        "  if operator== \"+\":\n",
        "    return first_number + second_number\n",
        "  elif operator== \"-\":\n",
        "    return first_number - second_number\n",
        "  elif operator== \"*\":\n",
        "    return first_number * second_number\n",
        "  elif operator== \"/\":\n",
        "    return first_number / second_number\n",
        "  elif operator== \"%\":\n",
        "    return first_number % second_number\n",
        "  else:\n",
        "    return \"Operation not available\"\n",
        "\n",
        "def calc2():\n",
        "  first_number= float(input(\"What is the first number: \"))\n",
        "  operator= input(\"What is the operator: \")\n",
        "  second_number= float(input(\"what is the second number: \"))\n",
        "  \n",
        "  print(first_number, operator, second_number, \"=\", calc(first_number, operator, second_number))\n",
        "\n",
        "calc2()"
      ],
      "metadata": {
        "colab": {
          "base_uri": "https://localhost:8080/"
        },
        "id": "eOTJcMzOU51a",
        "outputId": "58b53251-4d47-4353-f6b1-0838da452c6c"
      },
      "execution_count": null,
      "outputs": [
        {
          "output_type": "stream",
          "name": "stdout",
          "text": [
            "What is the first number: 23\n",
            "What is the operator: /\n",
            "what is the second number: 20\n",
            "23.0 / 20.0 = 3.0\n"
          ]
        }
      ]
    },
    {
      "cell_type": "code",
      "source": [
        "# Logic operations\n",
        "# Logic operators return true or false\n",
        "# Greater than (>)\n",
        "print(\"Ten greater than twenty returns \", 10>20)\n",
        "print(\"Twenty greater than ten returns \", 20>10)\n",
        "\n",
        "# Less than(<)\n",
        "print(\"Ten less than twenty returns \", 10<20)\n",
        "print(\"Twenty less than ten returns \", 20<10)\n",
        "\n",
        "# Equal to(==)\n",
        "# NOTE: Single(=) is used for variable declaration while, double(==) is used to check for comparison\n",
        "print(\"Ten equal to ten returns \", 10==10)\n",
        "print(\"Twenty equal to ten returns \", 20==10)\n",
        "\n",
        "# Not equal to(!=)\n",
        "print(\"Ten not equal to ten returns \", 10!=10)\n",
        "print(\"Twenty not equal to ten returns \", 20!=10)\n",
        "\n",
        "# Greater than or Equal to(>=)\n",
        "print(\"Ten greater than or equal to twenty returns \", 10>=20)\n",
        "print(\"Twenty greater than or equal to twenty returns \", 20>=20)\n",
        "print(\"Twenty greater than or equal to ten returns \", 20>=10)\n",
        "\n",
        "# Less than or equal to\n",
        "print(\"Ten less than or equal to twenty returns \", 10<=20)\n",
        "print(\"Twenty less than or equal to twenty returns \", 20<=20)\n",
        "print(\"Twenty less than or equal to ten returns \", 20<=10)\n",
        "\n"
      ],
      "metadata": {
        "colab": {
          "base_uri": "https://localhost:8080/"
        },
        "id": "_5V9Vg-c0PvU",
        "outputId": "c9f7d531-10c4-428c-d6d5-7b0e158e411f"
      },
      "execution_count": null,
      "outputs": [
        {
          "output_type": "stream",
          "name": "stdout",
          "text": [
            "Ten greater than twenty returns  False\n",
            "Twenty greater than ten returns  True\n",
            "Ten less than twenty returns  True\n",
            "Twenty less than ten returns  False\n",
            "Ten equal to ten returns  True\n",
            "Twenty equal to ten returns  False\n",
            "Ten not equal to ten returns  False\n",
            "Twenty not equal to ten returns  True\n",
            "Ten greater than or equal to twenty returns  False\n",
            "Twenty greater than or equal to twenty returns  True\n",
            "Twenty greater than or equal to ten returns  True\n",
            "Ten less than or equal to twenty returns  True\n",
            "Twenty less than or equal to twenty returns  True\n",
            "Twenty less than or equal to ten returns  False\n"
          ]
        }
      ]
    },
    {
      "cell_type": "code",
      "source": [
        "# AND\n",
        "# AND requires that both the compared values are  true\n",
        "name1= \"John\"\n",
        "name2= \"Jim\"\n",
        "\n",
        "# Checking for a known true\n",
        "if name1== \"John\" and name2== \"Jim\":\n",
        "  print(\"Name1 \", name1, \"Name2 \", name2) \n",
        "\n",
        "# Checking for an unknown True\n",
        "if name1== \"John\" and name2== \"Jane\":\n",
        "  print(\"Name1 \", name1, \"Name2 \", name2) \n",
        "else:\n",
        "  print(\"Either name1 or name2 has an error\")\n",
        "\n",
        "# Using AND to check for a negative statement\n",
        "# NOT ADVISED\n",
        "if name1!=\"Peter\" and name2!= \"Jack\":\n",
        "  print(\"Peter and Jack not found\")\n",
        "else:\n",
        "  print(\"Peter and Jack found\") "
      ],
      "metadata": {
        "colab": {
          "base_uri": "https://localhost:8080/"
        },
        "id": "zMc78ZXG4tQB",
        "outputId": "8f5cc062-c13b-4175-a37b-7b192fda99a1"
      },
      "execution_count": null,
      "outputs": [
        {
          "output_type": "stream",
          "name": "stdout",
          "text": [
            "Name1  John Name2  Jim\n",
            "Either name1 or name2 has an error\n",
            "Neither name1 nor name2 is valid\n"
          ]
        }
      ]
    },
    {
      "cell_type": "code",
      "source": [
        "# OR\n",
        "# Logical OR checks if either of the scenarios is true\n",
        "name1= \"John\"\n",
        "name2= \"Jim\"\n",
        "\n",
        "# Checking for both sceraios as true\n",
        "if name1== \"John\" or name2== \"Jim\":\n",
        "  print(\"Name1 \", name1, \"Name2 \", name2)\n",
        "\n",
        "# Checking when only the first scenario is true\n",
        "if name1== \"John\" or name2== \"Peter\":\n",
        "  print(\"Found \", name1, \"or Peter \")\n",
        "\n",
        "# Checking when only the second scenario is true\n",
        "if name1== \"Peter\" or name2==\"Jim\":\n",
        "  print(\"Found Peter or \", name2 )\n",
        "\n",
        "# Checking when neither of the scenarios is true\n",
        "if name1== \"Peter\" or name2==\"Jack\":\n",
        "  print(\"Found peter or Jack\")\n",
        "else:\n",
        "  print(\"Neither Peter Nor Jack was found\")"
      ],
      "metadata": {
        "colab": {
          "base_uri": "https://localhost:8080/"
        },
        "id": "kTiWJO8Z6zeS",
        "outputId": "2b36006a-e890-48bd-b44d-37fbe1825503"
      },
      "execution_count": null,
      "outputs": [
        {
          "output_type": "stream",
          "name": "stdout",
          "text": [
            "Name1  John Name2  Jim\n",
            "Found  John or Peter \n",
            "Found Peter or  Jim\n",
            "Neither Peter Nor Jack was found\n"
          ]
        }
      ]
    },
    {
      "cell_type": "code",
      "source": [
        "# Using AND & OR\n",
        "# When using both operators, AND precedes OR\n",
        "# For the result to be true the very first scenario has to be true\n",
        "name1= \"John\"\n",
        "name2= \"Jim\"\n",
        "\n",
        "# Check for when it's true before the OR operator\n",
        "if name1== \"John\" and name2== \"Jim\" or name2== \"Peter\":\n",
        "  print(\"Found \", name1, \" and \", name2)\n",
        "\n",
        "# Check for when the OR operator makes it true\n",
        "if name1== \"John\" and name2== \"Peter\" or name2== \"Jim\":\n",
        "  print(\"Found \", name1, \" and \", name2)\n",
        "\n",
        "if name2== \"Jim\" and name1== \"John\" or name1== \"Peter\":\n",
        "  print(\"Found \", name2, \" and \", name1)\n",
        "\n",
        "if name2== \"Jim\" and name1== \"Peter\" or name1== \"John\":\n",
        "  print(\"Found \", name2, \" and \", name1)\n",
        "\n",
        "# When the first Scenario is False\n",
        "if name1== \"Peter\" and name2== \"Jim\" or name2== \"Jane\":\n",
        "  print(\"Found \", name1, \" and \", name2)\n",
        "else:\n",
        "  print(\"The first scenario was false\")\n",
        "\n",
        "if name2== \"Jane\" and name1== \"Jack\" or name1== \"Tedd\":\n",
        "  print(\"Found \", name2, \"and \", name1)\n",
        "else:\n",
        "  print(\"The first scenario was false\")"
      ],
      "metadata": {
        "colab": {
          "base_uri": "https://localhost:8080/"
        },
        "id": "nYsZW-CW9EMq",
        "outputId": "f4c74c62-5575-4e75-d3a5-514e6a25acf2"
      },
      "execution_count": null,
      "outputs": [
        {
          "output_type": "stream",
          "name": "stdout",
          "text": [
            "Found  John  and  Jim\n",
            "Found  John  and  Jim\n",
            "Found  Jim  and  John\n",
            "Found  Jim  and  John\n",
            "The first scenario was false\n",
            "The first scenario was false\n"
          ]
        }
      ]
    },
    {
      "cell_type": "code",
      "source": [
        "# Let us write a function that determines the students' Grade depending on the score given\n",
        "def grade(score):\n",
        "  if score>100 or score<0:\n",
        "    return \"Invalid Score\"\n",
        "  if score>=80:\n",
        "    return \"The Student has an A\"\n",
        "  elif score>= 70:\n",
        "    return \"The student has a B\"\n",
        "  elif score>= 60:\n",
        "    return \"The student has a C\"\n",
        "  elif score>= 50:\n",
        "    return \"The student has a D\"\n",
        "  elif score<40:\n",
        "    return \"The student has failed!!!\"\n",
        "\n",
        "def grd():\n",
        "  score= int(input(\"what is the students'score: \"))\n",
        "  print(grade(score))\n",
        "grd()"
      ],
      "metadata": {
        "colab": {
          "base_uri": "https://localhost:8080/"
        },
        "id": "w7KzZ3NshHCg",
        "outputId": "bedc5d08-486c-445d-9528-9425e9a663e5"
      },
      "execution_count": null,
      "outputs": [
        {
          "output_type": "stream",
          "name": "stdout",
          "text": [
            "what is the students'score: 200\n",
            "Invalid Score\n"
          ]
        }
      ]
    }
  ]
}