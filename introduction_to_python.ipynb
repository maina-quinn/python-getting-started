{
  "nbformat": 4,
  "nbformat_minor": 0,
  "metadata": {
    "colab": {
      "provenance": [],
      "authorship_tag": "ABX9TyNXblrmnSjxpj0kc6lXuvxJ",
      "include_colab_link": true
    },
    "kernelspec": {
      "name": "python3",
      "display_name": "Python 3"
    },
    "language_info": {
      "name": "python"
    }
  },
  "cells": [
    {
      "cell_type": "markdown",
      "metadata": {
        "id": "view-in-github",
        "colab_type": "text"
      },
      "source": [
        "<a href=\"https://colab.research.google.com/github/maina-quinn/maina-quinn/blob/main/introduction_to_python.ipynb\" target=\"_parent\"><img src=\"https://colab.research.google.com/assets/colab-badge.svg\" alt=\"Open In Colab\"/></a>"
      ]
    },
    {
      "cell_type": "markdown",
      "source": [
        "languages:\n",
        "compiled and interpreted\n",
        "\n",
        "compiled:\n",
        "example: java, c, c++\n",
        "\n",
        "interpreted:\n",
        "executed line after line during runtime, hence tends to be slow\n",
        "No compilation\n",
        "example: python\n",
        "\n"
      ],
      "metadata": {
        "id": "rZZZidMpysjn"
      }
    },
    {
      "cell_type": "code",
      "execution_count": 43,
      "metadata": {
        "colab": {
          "base_uri": "https://localhost:8080/"
        },
        "id": "rocpAtWeyIkw",
        "outputId": "9ca5ce1e-06fd-4cbc-b8c0-da55b7ffcb3d"
      },
      "outputs": [
        {
          "output_type": "stream",
          "name": "stdout",
          "text": [
            "hello quinton\n"
          ]
        }
      ],
      "source": [
        "print(\"hello quinton\")"
      ]
    },
    {
      "cell_type": "code",
      "source": [
        "# variable declaration\n",
        "# integer \n",
        "a = int(10)\n",
        "b = int(20)\n",
        "c = a + b\n",
        "print(c)\n"
      ],
      "metadata": {
        "colab": {
          "base_uri": "https://localhost:8080/"
        },
        "id": "Ym7umWLB0EHM",
        "outputId": "883d4788-4ff0-4b81-dad2-84d8ee39eacf"
      },
      "execution_count": 44,
      "outputs": [
        {
          "output_type": "stream",
          "name": "stdout",
          "text": [
            "30\n"
          ]
        }
      ]
    },
    {
      "cell_type": "code",
      "source": [
        "# string\n",
        "d = str(\"daniel\")\n",
        "e = str(\"maina\")\n",
        "print(d+ \" \" + e)"
      ],
      "metadata": {
        "colab": {
          "base_uri": "https://localhost:8080/"
        },
        "id": "PO3PWOyv1kg3",
        "outputId": "d69aab2c-a202-4f8f-ac81-8400981d9f8f"
      },
      "execution_count": 45,
      "outputs": [
        {
          "output_type": "stream",
          "name": "stdout",
          "text": [
            "daniel maina\n"
          ]
        }
      ]
    },
    {
      "cell_type": "code",
      "source": [
        "# Decimal values\n",
        "# Float\n",
        "f = float(15)\n",
        "g = float(3)\n",
        "print(f+g )\n",
        "print(f+a ) #performing operation between float and integer"
      ],
      "metadata": {
        "colab": {
          "base_uri": "https://localhost:8080/"
        },
        "id": "oBXJO0AFG3Vz",
        "outputId": "7ed6bbdf-4905-4748-c482-cb7f134bb597"
      },
      "execution_count": 46,
      "outputs": [
        {
          "output_type": "stream",
          "name": "stdout",
          "text": [
            "18.0\n",
            "25.0\n"
          ]
        }
      ]
    },
    {
      "cell_type": "code",
      "source": [
        "# List/Arrays: mutable\n",
        "fruits =[\"mango\", \"orange\", \"pears\"]\n",
        "print(fruits)\n",
        "fruits[1] = \"avocado\" #changing property in the list\n",
        "print(fruits)\n",
        "\n",
        "# Lists in python are not strongly typed meaning i can have a list of values with different data types\n",
        "my_list = [\"book\", 10, 55.0, {\"first_name\": \"Quinton\", \"last_name\": \"Maina\"}, [\"orange\", \"banana\"], (\"laptop\", \"phone\")]\n",
        "print(\"My mixed types list \", my_list)"
      ],
      "metadata": {
        "colab": {
          "base_uri": "https://localhost:8080/"
        },
        "id": "XCwFr2FfG8TP",
        "outputId": "9156a008-6dca-41e7-dba4-18923ea4c4f8"
      },
      "execution_count": 47,
      "outputs": [
        {
          "output_type": "stream",
          "name": "stdout",
          "text": [
            "['mango', 'orange', 'pears']\n",
            "['mango', 'avocado', 'pears']\n",
            "My mixed types list  ['book', 10, 55.0, {'first_name': 'Quinton', 'last_name': 'Maina'}, ['orange', 'banana'], ('laptop', 'phone')]\n"
          ]
        }
      ]
    },
    {
      "cell_type": "code",
      "source": [
        "#tuple: immutable(cant change the value)\n",
        "\"\"\"\n",
        "To update value in a tuple, convert the tuple to a list, \n",
        "update the value in the converted list\n",
        "and convert it back to a tuple.\n",
        "\"\"\"\n",
        "fruits = (\"mango\", \"orange\", \"pears\")\n",
        "print(fruits)\n",
        "fruits2 = list(fruits)\n",
        "print(\"change the tuple to a list of \", fruits2)\n",
        "fruits2[0] = \"banana\"\n",
        "print(fruits2)\n",
        "fruits = tuple(fruits2)\n",
        "print(\"used list conversion to update the list of fruit tuples to \", fruits)\n",
        "\n",
        "# Similar to lists, tuples in python are not strongly typed\n",
        "my_tuple = (\"book\", 10, 55.0, {\"first_name\": \"Quinton\", \"last_name\": \"Maina\"}, [\"orange\", \"banana\"], (\"laptop\", \"phone\"))\n",
        "print(\"My mixed types tuple \", my_tuple)"
      ],
      "metadata": {
        "colab": {
          "base_uri": "https://localhost:8080/"
        },
        "id": "oPZSN3uQHCjd",
        "outputId": "2b848c1e-317b-48c9-cfa7-712b338d7112"
      },
      "execution_count": 48,
      "outputs": [
        {
          "output_type": "stream",
          "name": "stdout",
          "text": [
            "('mango', 'orange', 'pears')\n",
            "change the tuple to a list of  ['mango', 'orange', 'pears']\n",
            "['banana', 'orange', 'pears']\n",
            "used list conversion to update the list of fruit tuples to  ('banana', 'orange', 'pears')\n",
            "My mixed types tuple  ('book', 10, 55.0, {'first_name': 'Quinton', 'last_name': 'Maina'}, ['orange', 'banana'], ('laptop', 'phone'))\n"
          ]
        }
      ]
    },
    {
      "cell_type": "code",
      "source": [
        "# Dictionaries\n",
        "\"\"\"\n",
        "Dictionaries are used to display marked data. Data stored in dictionaries has a key and a value.\n",
        "\"\"\"\n",
        "my_data= {\"first_name\": \"Daniel\", \"last_name\": \"Maina\", \"other_names\": \"Mwihaki\"}\n",
        "print(my_data)\n",
        "\n",
        "# Similar to lists and tuples dicts in python are not strongly typed\n",
        "my_dict = {\n",
        "    \"first_name\": \"Daniel\", \n",
        "    \"last_name\": \"Maina\",\n",
        "    \"other_names\": [\"mwihaki\", \"Quinton\"],\n",
        "    \"age\": 23,\n",
        "    \"weight\": 55.6,\n",
        "    10: \"TEN\"\n",
        "}\n",
        "print(\"my untyped dict is \", my_dict)\n",
        "\n",
        "# To edit values in a dictionary, use the key as the index and the value assigned will be the new value for that key\n",
        "my_data[\"other_names\"] = \"Mwihaki Quinton\"\n",
        "print(\"my updated data is \", my_data)"
      ],
      "metadata": {
        "colab": {
          "base_uri": "https://localhost:8080/"
        },
        "id": "lRKcizsRHH6u",
        "outputId": "a188fa96-f2df-4016-8e2e-2df6737e581e"
      },
      "execution_count": 49,
      "outputs": [
        {
          "output_type": "stream",
          "name": "stdout",
          "text": [
            "{'first_name': 'Daniel', 'last_name': 'Maina', 'other_names': 'Mwihaki'}\n",
            "my untyped dict is  {'first_name': 'Daniel', 'last_name': 'Maina', 'other_names': ['mwihaki', 'Quinton'], 'age': 23, 'weight': 55.6, 10: 'TEN'}\n",
            "my updated data is  {'first_name': 'Daniel', 'last_name': 'Maina', 'other_names': 'Mwihaki Quinton'}\n"
          ]
        }
      ]
    },
    {
      "cell_type": "code",
      "source": [
        "# boolean\n",
        "h = bool(True)\n",
        "print(h)\n",
        "print(\"an empty space returns the boolean value \", bool(\" \"))  #space accounted as value, hence return true\n",
        "print(\"a populated string returns the boolean value \", bool(\"Hello world\"))\n",
        "print(\"a populated list returns the boolean value \", bool([\"avocado\", \"orange\"]))\n",
        "print(\"a populated tuple returns the boolean value \", bool((\"avocado\", \"orange\")))\n",
        "print(\"a populated dict returns the boolean value \", bool({\"first_name\": \"Daniel\"}))\n",
        "\n",
        "print(\"boolean value for false is \", bool(False))  # printing boolean value for false\n",
        "print(\"an empty string returns the boolean value\", bool(\"\")) # printing boolean value for an empty string\n",
        "print(\"an empty list returns the boolean value\", bool([])) # printing boolean value for an empty list\n",
        "print(\"an empty tuple returns the boolean value \", bool(()))\n",
        "print(\"an empty dict returns the boolean value \", bool({}))"
      ],
      "metadata": {
        "colab": {
          "base_uri": "https://localhost:8080/"
        },
        "id": "m7JIBbNgHSY0",
        "outputId": "551bfd73-8d47-4646-ba4d-beff07b437b1"
      },
      "execution_count": 50,
      "outputs": [
        {
          "output_type": "stream",
          "name": "stdout",
          "text": [
            "True\n",
            "an empty space returns the boolean value  True\n",
            "a populated string returns the boolean value  True\n",
            "a populated list returns the boolean value  True\n",
            "a populated tuple returns the boolean value  True\n",
            "a populated dict returns the boolean value  True\n",
            "boolean value for false is  False\n",
            "an empty string returns the boolean value False\n",
            "an empty list returns the boolean value False\n",
            "an empty tuple returns the boolean value  False\n",
            "an empty dict returns the boolean value  False\n"
          ]
        }
      ]
    }
  ]
}