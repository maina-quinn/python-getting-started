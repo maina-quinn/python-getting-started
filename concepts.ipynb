{
  "nbformat": 4,
  "nbformat_minor": 0,
  "metadata": {
    "colab": {
      "provenance": [],
      "authorship_tag": "ABX9TyOKKcm6vogxDo59NvEMGO/+",
      "include_colab_link": true
    },
    "kernelspec": {
      "name": "python3",
      "display_name": "Python 3"
    },
    "language_info": {
      "name": "python"
    }
  },
  "cells": [
    {
      "cell_type": "markdown",
      "metadata": {
        "id": "view-in-github",
        "colab_type": "text"
      },
      "source": [
        "<a href=\"https://colab.research.google.com/github/maina-quinn/python-getting-started/blob/main/concepts.ipynb\" target=\"_parent\"><img src=\"https://colab.research.google.com/assets/colab-badge.svg\" alt=\"Open In Colab\"/></a>"
      ]
    },
    {
      "cell_type": "code",
      "execution_count": null,
      "metadata": {
        "colab": {
          "base_uri": "https://localhost:8080/"
        },
        "id": "9pUdecHlI5s6",
        "outputId": "b8b750b1-8343-42e1-ddbf-2231da3696b4"
      },
      "outputs": [
        {
          "output_type": "execute_result",
          "data": {
            "text/plain": [
              "55"
            ]
          },
          "metadata": {},
          "execution_count": 4
        }
      ],
      "source": [
        "# Scope:\n",
        "# This explains the availability of a variable\n",
        "\n",
        "# Local variables;\n",
        "# A variable within a function exists locally to that function\n",
        "def add():\n",
        "  first_num= 30\n",
        "  sec_num= 25\n",
        "  return first_num + sec_num\n",
        "# In the above first_num and sec_num are only accessible in the add function\n",
        "add()"
      ]
    },
    {
      "cell_type": "code",
      "source": [
        "# Function within a function\n",
        "def calc():\n",
        "  def add_nums():\n",
        "    first_num= 30\n",
        "    sec_num= 25\n",
        "    return first_num + sec_num\n",
        "  result= add_nums()\n",
        "  print(result)\n",
        "calc()\n",
        "# In the above implimentation, 'add' function is only accessible inside the 'calc' function\n"
      ],
      "metadata": {
        "colab": {
          "base_uri": "https://localhost:8080/"
        },
        "id": "gDXSlSmPKgab",
        "outputId": "ef8a7095-2277-4252-a9b9-19a2d49d6dad"
      },
      "execution_count": null,
      "outputs": [
        {
          "output_type": "stream",
          "name": "stdout",
          "text": [
            "55\n"
          ]
        }
      ]
    },
    {
      "cell_type": "code",
      "source": [
        "# Global Variables\n",
        "first_num= 45\n",
        "sec_num= 27\n",
        "\n",
        "def subtract():\n",
        "  return first_num - sec_num\n",
        "subtract()\n",
        "# First_num and sec_num exist as global variables therfore accessible anywhere within the file or shell"
      ],
      "metadata": {
        "colab": {
          "base_uri": "https://localhost:8080/"
        },
        "id": "8iF99lbXL0Kn",
        "outputId": "429109e7-8531-476f-a08a-ed39d8bed2d8"
      },
      "execution_count": null,
      "outputs": [
        {
          "output_type": "execute_result",
          "data": {
            "text/plain": [
              "18"
            ]
          },
          "metadata": {},
          "execution_count": 12
        }
      ]
    },
    {
      "cell_type": "code",
      "source": [
        "first_num= 45\n",
        "sec_num= 27\n",
        "\n",
        "def subtract_nums():\n",
        "  first_num= 200\n",
        "  return first_num - sec_num\n",
        "result= subtract_nums()\n",
        "print(\"The result is: \", result)\n",
        "print(first_num) \n",
        "print(sec_num)\n",
        "# In the subtract_nums function, the value of first_num is read as the updated value 200"
      ],
      "metadata": {
        "colab": {
          "base_uri": "https://localhost:8080/"
        },
        "id": "UcmELrHoMudt",
        "outputId": "19f75394-f725-411e-98aa-2f1258425a70"
      },
      "execution_count": null,
      "outputs": [
        {
          "output_type": "stream",
          "name": "stdout",
          "text": [
            "The result is:  173\n",
            "45\n",
            "27\n"
          ]
        }
      ]
    }
  ]
}