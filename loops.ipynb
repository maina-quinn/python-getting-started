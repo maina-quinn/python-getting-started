{
  "nbformat": 4,
  "nbformat_minor": 0,
  "metadata": {
    "colab": {
      "provenance": [],
      "authorship_tag": "ABX9TyNB+qxR5Yrbi4/HmBcgxJo2",
      "include_colab_link": true
    },
    "kernelspec": {
      "name": "python3",
      "display_name": "Python 3"
    },
    "language_info": {
      "name": "python"
    }
  },
  "cells": [
    {
      "cell_type": "markdown",
      "metadata": {
        "id": "view-in-github",
        "colab_type": "text"
      },
      "source": [
        "<a href=\"https://colab.research.google.com/github/maina-quinn/python-getting-started/blob/main/loops.ipynb\" target=\"_parent\"><img src=\"https://colab.research.google.com/assets/colab-badge.svg\" alt=\"Open In Colab\"/></a>"
      ]
    },
    {
      "cell_type": "code",
      "execution_count": 1,
      "metadata": {
        "colab": {
          "base_uri": "https://localhost:8080/"
        },
        "id": "-d5jaOKb2mOL",
        "outputId": "aacf2be8-06de-4458-caad-1e89ef0b3b1c"
      },
      "outputs": [
        {
          "output_type": "stream",
          "name": "stdout",
          "text": [
            "0\n",
            "1\n",
            "2\n",
            "3\n",
            "4\n",
            "5\n",
            "6\n",
            "7\n",
            "8\n",
            "9\n"
          ]
        }
      ],
      "source": [
        "# python has 2 major loop types: the for loop and the while looop\n",
        "# For loops\n",
        "# The most common and most applicable form of looping over data\n",
        "for i in range(0, 10):\n",
        "  print(i)"
      ]
    },
    {
      "cell_type": "code",
      "source": [
        "# Looping over a list of values\n",
        "fruits= [\"Mango\", \"Orange\", \"Pears\", \"Banana\", \"Avocado\"]\n",
        "for fruit in fruits:\n",
        "  print(fruit)"
      ],
      "metadata": {
        "colab": {
          "base_uri": "https://localhost:8080/"
        },
        "id": "MVjGk6Yj7Wky",
        "outputId": "bac41581-38a8-4b08-fd99-34f15f8cd3e5"
      },
      "execution_count": 2,
      "outputs": [
        {
          "output_type": "stream",
          "name": "stdout",
          "text": [
            "Mango\n",
            "Orange\n",
            "Pears\n",
            "Banana\n",
            "Avocado\n"
          ]
        }
      ]
    },
    {
      "cell_type": "code",
      "source": [
        "# Looping over a list of values using their index\n",
        "fruits= [\"Mango\", \"Orange\", \"Pears\", \"Banana\", \"Avocado\"]\n",
        "for index in range(len(fruits)):\n",
        "  print(index)\n",
        "  print(fruits[index])"
      ],
      "metadata": {
        "colab": {
          "base_uri": "https://localhost:8080/"
        },
        "id": "thWerVz16_7z",
        "outputId": "e1b61cae-7896-4165-90fd-e8199cb14131"
      },
      "execution_count": 3,
      "outputs": [
        {
          "output_type": "stream",
          "name": "stdout",
          "text": [
            "0\n",
            "Mango\n",
            "1\n",
            "Orange\n",
            "2\n",
            "Pears\n",
            "3\n",
            "Banana\n",
            "4\n",
            "Avocado\n"
          ]
        }
      ]
    },
    {
      "cell_type": "code",
      "source": [
        "# Looping over a list of values with their indexes\n",
        "fruits2= [\"Mango\", \"Orange\", \"Pears\", \"Banana\", \"Avocado\"]\n",
        "for count, fruit in enumerate(fruits2):\n",
        "  print(\"Index: \", count, \" value: \", fruit)"
      ],
      "metadata": {
        "colab": {
          "base_uri": "https://localhost:8080/"
        },
        "id": "1CoOy-r-67Yi",
        "outputId": "ad2569ce-99ad-4845-f2fb-5476e98d44f3"
      },
      "execution_count": 4,
      "outputs": [
        {
          "output_type": "stream",
          "name": "stdout",
          "text": [
            "Index:  0  value:  Mango\n",
            "Index:  1  value:  Orange\n",
            "Index:  2  value:  Pears\n",
            "Index:  3  value:  Banana\n",
            "Index:  4  value:  Avocado\n"
          ]
        }
      ]
    },
    {
      "cell_type": "code",
      "source": [
        "# Nested for loops\n",
        "clothes= [\"Trouser\", \"Shirts\", \"Sweater\", \"Caps\", \"Dresses\", \"Blouse\"]\n",
        "colours= [\"Pink\", \"White\", \"Blue\", \"Black\", \"Yellow\", \"Orange\"]\n",
        "\n",
        "for cloth in clothes:\n",
        "  for color in colours:\n",
        "    print(color, \" \", cloth)"
      ],
      "metadata": {
        "colab": {
          "base_uri": "https://localhost:8080/"
        },
        "id": "WecB_8N27g88",
        "outputId": "76d1cf37-d051-46da-ce55-3950701a6349"
      },
      "execution_count": 5,
      "outputs": [
        {
          "output_type": "stream",
          "name": "stdout",
          "text": [
            "Pink   Trouser\n",
            "White   Trouser\n",
            "Blue   Trouser\n",
            "Black   Trouser\n",
            "Yellow   Trouser\n",
            "Orange   Trouser\n",
            "Pink   Shirts\n",
            "White   Shirts\n",
            "Blue   Shirts\n",
            "Black   Shirts\n",
            "Yellow   Shirts\n",
            "Orange   Shirts\n",
            "Pink   Sweater\n",
            "White   Sweater\n",
            "Blue   Sweater\n",
            "Black   Sweater\n",
            "Yellow   Sweater\n",
            "Orange   Sweater\n",
            "Pink   Caps\n",
            "White   Caps\n",
            "Blue   Caps\n",
            "Black   Caps\n",
            "Yellow   Caps\n",
            "Orange   Caps\n",
            "Pink   Dresses\n",
            "White   Dresses\n",
            "Blue   Dresses\n",
            "Black   Dresses\n",
            "Yellow   Dresses\n",
            "Orange   Dresses\n",
            "Pink   Blouse\n",
            "White   Blouse\n",
            "Blue   Blouse\n",
            "Black   Blouse\n",
            "Yellow   Blouse\n",
            "Orange   Blouse\n"
          ]
        }
      ]
    },
    {
      "cell_type": "code",
      "source": [
        "# Break statements\n",
        "# used to exit a loop, to go back to the functionality\n",
        "# unlike a return, which exits the entire functionality, a break only exits the loop.\n",
        "clothes= [\"Trouser\", \"Shirts\", \"Sweater\", \"Caps\", \"Dresses\", \"Blouse\"]\n",
        "for cloth in clothes:\n",
        "  print(cloth)\n",
        "  if cloth== \"Sweater\":\n",
        "    break"
      ],
      "metadata": {
        "colab": {
          "base_uri": "https://localhost:8080/"
        },
        "id": "L5b_B_qM-zIP",
        "outputId": "e810ad34-4949-4ff8-b20c-21c547772149"
      },
      "execution_count": 6,
      "outputs": [
        {
          "output_type": "stream",
          "name": "stdout",
          "text": [
            "Trouser\n",
            "Shirts\n",
            "Sweater\n"
          ]
        }
      ]
    },
    {
      "cell_type": "code",
      "source": [
        "# If you break before implimenting the required functionality, the loop exits early\n",
        "clothes= [\"Trouser\", \"Shirts\", \"Sweater\", \"Caps\", \"Dresses\", \"Blouse\"]\n",
        "for cloth in clothes:\n",
        "  if cloth== \"Sweater\":\n",
        "    break\n",
        "  print(cloth)"
      ],
      "metadata": {
        "colab": {
          "base_uri": "https://localhost:8080/"
        },
        "id": "Wa34DoaSAHwi",
        "outputId": "3e766bdd-8a57-4db9-c8b2-ee93ec9982e2"
      },
      "execution_count": 7,
      "outputs": [
        {
          "output_type": "stream",
          "name": "stdout",
          "text": [
            "Trouser\n",
            "Shirts\n"
          ]
        }
      ]
    },
    {
      "cell_type": "code",
      "source": [
        "# Continue\n",
        "# Used to override the execution of a functionality, for a given condition.\n",
        "clothes= [\"Trouser\", \"Shirts\", \"Sweater\", \"Caps\", \"Dresses\", \"Blouse\"]\n",
        "for cloth in clothes:\n",
        "  if cloth== \"Sweater\":\n",
        "    continue\n",
        "  print(cloth)"
      ],
      "metadata": {
        "colab": {
          "base_uri": "https://localhost:8080/"
        },
        "id": "KtJN9wK9Ajii",
        "outputId": "88c55b20-88c3-4ecc-b857-f28f7d04ed2a"
      },
      "execution_count": 8,
      "outputs": [
        {
          "output_type": "stream",
          "name": "stdout",
          "text": [
            "Trouser\n",
            "Shirts\n",
            "Caps\n",
            "Dresses\n",
            "Blouse\n"
          ]
        }
      ]
    },
    {
      "cell_type": "code",
      "source": [
        "# However if you execute the functionality before the continue check, then the continue will not have any effect\n",
        "clothes= [\"Trouser\", \"Shirts\", \"Sweater\", \"Caps\", \"Dresses\", \"Blouse\"]\n",
        "for cloth in clothes:\n",
        "  print(cloth)\n",
        "  if cloth== \"Sweater\":\n",
        "    continue"
      ],
      "metadata": {
        "colab": {
          "base_uri": "https://localhost:8080/"
        },
        "id": "QhI_7fB6BLBw",
        "outputId": "063b6290-bddd-4f2e-b764-0bb8c554e281"
      },
      "execution_count": 9,
      "outputs": [
        {
          "output_type": "stream",
          "name": "stdout",
          "text": [
            "Trouser\n",
            "Shirts\n",
            "Sweater\n",
            "Caps\n",
            "Dresses\n",
            "Blouse\n"
          ]
        }
      ]
    },
    {
      "cell_type": "code",
      "source": [
        "# Exercise: printing all the prime number between 0-100\n",
        "# Defn; Prime number are numbers that have only 2 factors: 1 and themselves\n"
      ],
      "metadata": {
        "id": "1-8tjq02aRQs"
      },
      "execution_count": 10,
      "outputs": []
    },
    {
      "cell_type": "code",
      "source": [
        "# Exercise\n",
        "\n",
        "# Display all prime numbers between 0-100\n",
        "\n",
        "# Impliment a function that gets all the parindromes, between 0-200\n",
        "\n",
        "#  Impliment a function that returns stars in the shape\n",
        "''' \n",
        "1.\n",
        "*\n",
        "* *\n",
        "* * *\n",
        "* * * *\n",
        "* * * * *\n",
        "\n",
        "2.\n",
        "* * * * *\n",
        "* * * *\n",
        "* * *\n",
        "* *\n",
        "*\n",
        "\n",
        "3.\n",
        "*\n",
        "* *\n",
        "* * *\n",
        "* * * *\n",
        "* * * * *\n",
        "* * * * *\n",
        "* * * *\n",
        "* * *\n",
        "* *\n",
        "*\n",
        "\n",
        "4.\n",
        "     *\n",
        "    * *\n",
        "   * * *\n",
        "  * * * *\n",
        " * * * * *\n",
        "* * * * * *\n",
        "\n",
        "5.\n",
        "* * * * * *\n",
        " * * * * *\n",
        "  * * * *\n",
        "   * * *\n",
        "    * *\n",
        "     *\n",
        "\n",
        "6.\n",
        "     *\n",
        "    * *\n",
        "   * * *\n",
        "  * * * *\n",
        " * * * * *\n",
        "* * * * * *\n",
        "* * * * * *\n",
        " * * * * *\n",
        "  * * * *\n",
        "   * * *\n",
        "    * *\n",
        "     *\n",
        "'''"
      ],
      "metadata": {
        "id": "lFfmcY-BBvFS",
        "colab": {
          "base_uri": "https://localhost:8080/",
          "height": 72
        },
        "outputId": "885e119a-d647-46fd-9f4b-41a3176a95a9"
      },
      "execution_count": 11,
      "outputs": [
        {
          "output_type": "execute_result",
          "data": {
            "text/plain": [
              "' \\n1.\\n*\\n* *\\n* * *\\n* * * *\\n* * * * *\\n\\n2.\\n* * * * *\\n* * * *\\n* * *\\n* *\\n*\\n\\n3.\\n*\\n* *\\n* * *\\n* * * *\\n* * * * *\\n* * * * *\\n* * * *\\n* * *\\n* *\\n*\\n\\n4.\\n     *\\n    * *\\n   * * *\\n  * * * *\\n * * * * *\\n* * * * * *\\n\\n5.\\n* * * * * *\\n * * * * *\\n  * * * *\\n   * * *\\n    * *\\n     *\\n\\n6.\\n     *\\n    * *\\n   * * *\\n  * * * *\\n * * * * *\\n* * * * * *\\n* * * * * *\\n * * * * *\\n  * * * *\\n   * * *\\n    * *\\n     *\\n'"
            ],
            "application/vnd.google.colaboratory.intrinsic+json": {
              "type": "string"
            }
          },
          "metadata": {},
          "execution_count": 11
        }
      ]
    },
    {
      "cell_type": "code",
      "source": [
        "# Syntax: for (first iterable variable) in (outer-loop):\n",
        "#   [statements]\n",
        "#   for(second iterable variable) in (nested-loop):\n",
        "#     [statements]\n",
        "days= [1,2,3]\n",
        "weekday= [\"what\", \"where\", \"why\"]\n",
        "for i in days:\n",
        "  print(i)\n",
        "  for j in weekday:\n",
        "    print(j)"
      ],
      "metadata": {
        "id": "UBb4tn5A22-l",
        "colab": {
          "base_uri": "https://localhost:8080/"
        },
        "outputId": "fc589a3b-5646-4570-eaca-2487cd844edf"
      },
      "execution_count": 12,
      "outputs": [
        {
          "output_type": "stream",
          "name": "stdout",
          "text": [
            "1\n",
            "what\n",
            "where\n",
            "why\n",
            "2\n",
            "what\n",
            "where\n",
            "why\n",
            "3\n",
            "what\n",
            "where\n",
            "why\n"
          ]
        }
      ]
    },
    {
      "cell_type": "code",
      "source": [
        "# While loops\n",
        "# while loop seeks to exacute provided the condition is true\n",
        "is_valid= True\n",
        "index= 0\n",
        "while is_valid:\n",
        "  if index==10:\n",
        "    break\n",
        "  print(\"Is valid \", index)\n",
        "  index+=1\n",
        "\n"
      ],
      "metadata": {
        "id": "0tXN05IC7t_b",
        "colab": {
          "base_uri": "https://localhost:8080/"
        },
        "outputId": "a4805f5e-3717-49ad-caf3-773ba69bcc6b"
      },
      "execution_count": 13,
      "outputs": [
        {
          "output_type": "stream",
          "name": "stdout",
          "text": [
            "Is valid  0\n",
            "Is valid  1\n",
            "Is valid  2\n",
            "Is valid  3\n",
            "Is valid  4\n",
            "Is valid  5\n",
            "Is valid  6\n",
            "Is valid  7\n",
            "Is valid  8\n",
            "Is valid  9\n"
          ]
        }
      ]
    },
    {
      "cell_type": "code",
      "source": [
        "index=0\n",
        "while index<10:\n",
        "  print(index)\n",
        "  index+=1"
      ],
      "metadata": {
        "colab": {
          "base_uri": "https://localhost:8080/"
        },
        "id": "eHZcpYnGJA26",
        "outputId": "95afc37a-0192-4bd9-fd35-1a5f326d5145"
      },
      "execution_count": 14,
      "outputs": [
        {
          "output_type": "stream",
          "name": "stdout",
          "text": [
            "0\n",
            "1\n",
            "2\n",
            "3\n",
            "4\n",
            "5\n",
            "6\n",
            "7\n",
            "8\n",
            "9\n"
          ]
        }
      ]
    },
    {
      "cell_type": "code",
      "source": [
        "index=0\n",
        "while index<10:\n",
        "  index+=1\n",
        "  if index==5:\n",
        "    continue\n",
        "  print(index)\n",
        "  "
      ],
      "metadata": {
        "colab": {
          "base_uri": "https://localhost:8080/"
        },
        "id": "4ABZcgTDJY18",
        "outputId": "dd195364-bb5c-4831-ab15-73a9f669b62f"
      },
      "execution_count": 15,
      "outputs": [
        {
          "output_type": "stream",
          "name": "stdout",
          "text": [
            "1\n",
            "2\n",
            "3\n",
            "4\n",
            "6\n",
            "7\n",
            "8\n",
            "9\n",
            "10\n"
          ]
        }
      ]
    },
    {
      "cell_type": "code",
      "source": [
        "index=0\n",
        "while index<10:\n",
        "  index+=1\n",
        "  if index==5:\n",
        "    break\n",
        "  print(index)\n"
      ],
      "metadata": {
        "colab": {
          "base_uri": "https://localhost:8080/"
        },
        "id": "p2HwcQutKB3V",
        "outputId": "d087a419-948c-4410-919e-b4d64d73f457"
      },
      "execution_count": 16,
      "outputs": [
        {
          "output_type": "stream",
          "name": "stdout",
          "text": [
            "1\n",
            "2\n",
            "3\n",
            "4\n"
          ]
        }
      ]
    },
    {
      "cell_type": "code",
      "source": [
        "# while, else\n",
        "index=0\n",
        "while index<10:\n",
        "  print(index)\n",
        "  index+=1\n",
        "else:\n",
        "  print(\"The index is greater than or equal to 10\")"
      ],
      "metadata": {
        "colab": {
          "base_uri": "https://localhost:8080/"
        },
        "id": "oqqcnNcUKSIk",
        "outputId": "20dc3eeb-f225-4976-e66b-b488ebde22b2"
      },
      "execution_count": 17,
      "outputs": [
        {
          "output_type": "stream",
          "name": "stdout",
          "text": [
            "0\n",
            "1\n",
            "2\n",
            "3\n",
            "4\n",
            "5\n",
            "6\n",
            "7\n",
            "8\n",
            "9\n",
            "The index is greater than or equal to 10\n"
          ]
        }
      ]
    },
    {
      "cell_type": "code",
      "source": [
        "# Lets us make a grading system using while loops\n",
        "def grader(marks):\n",
        "  while marks>100 or marks<0:\n",
        "    print(\"Invalid Marks\")\n",
        "    break\n",
        "  while marks>=80:\n",
        "    print(\"The student has Grade A\")\n",
        "    break\n",
        "  while marks>=70:\n",
        "    print(\"The student has Grade B\")\n",
        "    break\n",
        "  while marks>=60:\n",
        "    print(\"The student has Grade C\")\n",
        "    break\n",
        "  while marks>=50:\n",
        "    print(\"The student has Grade D\")\n",
        "    break\n",
        "  while marks<50:\n",
        "    print(\"The student has Grade E\")\n",
        "    break\n",
        "\n",
        "marks=float(input(\"Enter the students marks: \"))\n",
        "grader(marks)"
      ],
      "metadata": {
        "colab": {
          "base_uri": "https://localhost:8080/"
        },
        "id": "UtDFc7szLNkj",
        "outputId": "54b3093d-1cde-4066-f74d-c7390c73c742"
      },
      "execution_count": 18,
      "outputs": [
        {
          "output_type": "stream",
          "name": "stdout",
          "text": [
            "Enter the students marks: 56\n",
            "The student has Grade D\n"
          ]
        }
      ]
    },
    {
      "cell_type": "code",
      "source": [
        "# Lets us make a grading system using while,else loops\n",
        "def grader(marks):\n",
        "  while marks>100 or marks<0:\n",
        "    print(\"Invalid Marks\")\n",
        "    break\n",
        "  while marks>=80:\n",
        "    print(\"The student has Grade A\")\n",
        "    break\n",
        "  while marks>=70:\n",
        "    print(\"The student has Grade B\")\n",
        "    break\n",
        "  while marks>=60:\n",
        "    print(\"The student has Grade C\")\n",
        "    break\n",
        "  while marks>=50:\n",
        "    print(\"The student has Grade D\")\n",
        "    break\n",
        "  else:\n",
        "    print(\"The student has Grade E\")\n",
        "\n",
        "marks=float(input(\"Enter the students marks: \"))\n",
        "grader(marks)"
      ],
      "metadata": {
        "colab": {
          "base_uri": "https://localhost:8080/"
        },
        "id": "nz3TtdnmNEsn",
        "outputId": "8fcdf518-d750-4903-a30d-e622a242685d"
      },
      "execution_count": 19,
      "outputs": [
        {
          "output_type": "stream",
          "name": "stdout",
          "text": [
            "Enter the students marks: 88\n",
            "The student has Grade A\n",
            "The student has Grade B\n",
            "The student has Grade C\n",
            "The student has Grade D\n"
          ]
        }
      ]
    },
    {
      "cell_type": "code",
      "source": [
        "# Lets us make a grading system using while,else loops\n",
        "# Replace breaks with Return\n",
        "def grader(marks):\n",
        "  while marks>100 or marks<0:\n",
        "    return \"Invalid marks\"\n",
        "  while marks>=80:\n",
        "    return \"The student has Grade A\"\n",
        "  while marks>=70:\n",
        "    return \"The student has Grade B\"\n",
        "  while marks>=60:\n",
        "    return \"The student has Grade C\"\n",
        "  while marks>=50:\n",
        "    return \"The student has Grade D\"\n",
        "  else:\n",
        "    return \"The student has Grade E\"\n",
        "\n",
        "marks=float(input(\"Enter the students marks: \"))\n",
        "grade= grader(marks)\n",
        "print(grade)"
      ],
      "metadata": {
        "colab": {
          "base_uri": "https://localhost:8080/"
        },
        "id": "IGoNuvLyNcAE",
        "outputId": "82a53c41-97b6-4b03-f212-0c089c7fe7ad"
      },
      "execution_count": 20,
      "outputs": [
        {
          "output_type": "stream",
          "name": "stdout",
          "text": [
            "Enter the students marks: 10\n",
            "The student has Grade E\n"
          ]
        }
      ]
    },
    {
      "cell_type": "code",
      "source": [
        "# Todays task: Impliment a calc function using while loops\n",
        "def calc(operation, a,b):\n",
        "  while operation== \"+\":\n",
        "    return a+b \n",
        "  while operation== \"-\":\n",
        "    return a-b\n",
        "  while operation== \"*\":\n",
        "    return a*b\n",
        "  while operation== \"/\":\n",
        "    return a/b\n",
        "  while operation== \"%\":\n",
        "    return a%b\n",
        "  else:\n",
        "    return \"The operation is invalid\"\n",
        "\n",
        "a= float(input(\"Enter the value of a: \"))\n",
        "operation= str(input(\"Enter the operation you want to perform: \"))\n",
        "b= float(input(\"Enter the value of b: \"))\n",
        "\n",
        "print(a,operation,b, \"= \", calc(operation,a,b))"
      ],
      "metadata": {
        "colab": {
          "base_uri": "https://localhost:8080/"
        },
        "id": "enm_Fs87OYVE",
        "outputId": "ef7ab34d-279c-42b8-fa13-91076b5d1da5"
      },
      "execution_count": 21,
      "outputs": [
        {
          "output_type": "stream",
          "name": "stdout",
          "text": [
            "Enter the value of a: 22\n",
            "Enter the operation you want to perform: *\n",
            "Enter the value of b: 12\n",
            "22.0 * 12.0 =  264.0\n"
          ]
        }
      ]
    },
    {
      "cell_type": "code",
      "source": [
        "# Switch statements\n",
        "# Although not popular,Switch statements are used to match cases with actions\n",
        "language= input(\"Enter your preffered programming language: \")\n",
        "match language:\n",
        "  case \"Python\":\n",
        "    print(\"You prefer Python\")\n",
        "  case \"JavaScript\":\n",
        "    print(\"You prefer Javascript\")\n",
        "  case \"Ruby\":\n",
        "    print(\"You prefer Ruby\")\n",
        "  case \"Java\":\n",
        "    print(\"You prefer Java\")\n",
        "  case _: # Works like an else statement\n",
        "    print(\"Unknown language\")"
      ],
      "metadata": {
        "colab": {
          "base_uri": "https://localhost:8080/"
        },
        "id": "y6j8cVZmOqK-",
        "outputId": "1b7def59-426e-4d48-89d3-59f6bda8068f"
      },
      "execution_count": 22,
      "outputs": [
        {
          "output_type": "stream",
          "name": "stdout",
          "text": [
            "Enter your preffered programming language: Java\n",
            "You prefer Java\n"
          ]
        }
      ]
    },
    {
      "cell_type": "code",
      "source": [
        "# Switch statements\n",
        "# Making the check case insensitive\n",
        "language= str(input(\"Enter your preffered programming language: \"))\n",
        "match language.lower():\n",
        "  case \"python\":\n",
        "    print(\"You prefer Python\")\n",
        "  case \"javascript\":\n",
        "    print(\"You prefer Javascript\")\n",
        "  case \"ruby\":\n",
        "    print(\"You prefer Ruby\")\n",
        "  case \"java\":\n",
        "    print(\"You prefer Java\")\n",
        "  case _: # Works like an else statement\n",
        "    print(\"Unknown language\")"
      ],
      "metadata": {
        "colab": {
          "base_uri": "https://localhost:8080/"
        },
        "id": "Fi7ywq2QRVe-",
        "outputId": "18d4a808-eaf2-4a7d-ba03-03cdb4a99f41"
      },
      "execution_count": 23,
      "outputs": [
        {
          "output_type": "stream",
          "name": "stdout",
          "text": [
            "Enter your preffered programming language: Ruby\n",
            "You prefer Ruby\n"
          ]
        }
      ]
    }
  ]
}