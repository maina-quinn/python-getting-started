{
  "nbformat": 4,
  "nbformat_minor": 0,
  "metadata": {
    "colab": {
      "provenance": [],
      "authorship_tag": "ABX9TyNSOmr0LmezHv9TmZxZhm5r",
      "include_colab_link": true
    },
    "kernelspec": {
      "name": "python3",
      "display_name": "Python 3"
    },
    "language_info": {
      "name": "python"
    }
  },
  "cells": [
    {
      "cell_type": "markdown",
      "metadata": {
        "id": "view-in-github",
        "colab_type": "text"
      },
      "source": [
        "<a href=\"https://colab.research.google.com/github/maina-quinn/python-getting-started/blob/main/exception_handling.ipynb\" target=\"_parent\"><img src=\"https://colab.research.google.com/assets/colab-badge.svg\" alt=\"Open In Colab\"/></a>"
      ]
    },
    {
      "cell_type": "code",
      "execution_count": null,
      "metadata": {
        "colab": {
          "base_uri": "https://localhost:8080/"
        },
        "id": "uQq67yjeJ9GS",
        "outputId": "3c12df53-f2d7-486a-e213-c271ed4ee1d2"
      },
      "outputs": [
        {
          "output_type": "stream",
          "name": "stdout",
          "text": [
            "An exception error occured\n"
          ]
        }
      ],
      "source": [
        "# Errors in python exist as exeption\n",
        "# https://www.w3schools.com/python/python_ref_exceptions.asp\n",
        "\n",
        "first_num= 10\n",
        "sec_num= \"23\"\n",
        "\n",
        "# result= first_num + sec_num  # This will raise a type error\n",
        "# To deal with this error we use a try except block\n",
        "# Try allows to test something out\n",
        "# Except allows you to handle the error\n",
        "try:\n",
        "  result= first_num + sec_num\n",
        "except:\n",
        "  print(\"An exception error occured\")"
      ]
    },
    {
      "cell_type": "code",
      "source": [
        "# During error handling one can implicitly state the type of error being handled\n",
        "first_num= 10\n",
        "sec_num= \"23\"\n",
        "\n",
        "try:\n",
        "  result= first_num + sec_num\n",
        "except TypeError:\n",
        "  print(\"A Type error occured\")\n",
        "# This allows for the handling of multiple types of errors differently\n"
      ],
      "metadata": {
        "colab": {
          "base_uri": "https://localhost:8080/"
        },
        "id": "hbUCV7QHL8Up",
        "outputId": "fa76fa3d-f1c8-4b6a-d6d4-47502e8cc831"
      },
      "execution_count": null,
      "outputs": [
        {
          "output_type": "stream",
          "name": "stdout",
          "text": [
            "A Type error occured\n"
          ]
        }
      ]
    },
    {
      "cell_type": "code",
      "source": [
        "first_num= 10\n",
        "sec_num= \"23\"\n",
        "\n",
        "try:\n",
        "  result= first_num + sec_numm\n",
        "except TypeError: # We'll only handle a type error\n",
        "  print(\"A Type error occured\")\n",
        "except NameError:\n",
        "  print(\"A Name Error occured\")"
      ],
      "metadata": {
        "colab": {
          "base_uri": "https://localhost:8080/"
        },
        "id": "0wDn5xbKNIFm",
        "outputId": "c1114a18-0287-4882-acc8-15a8e55a214f"
      },
      "execution_count": null,
      "outputs": [
        {
          "output_type": "stream",
          "name": "stdout",
          "text": [
            "A Name Error occured\n"
          ]
        }
      ]
    },
    {
      "cell_type": "code",
      "source": [
        "first_num= 10\n",
        "sec_num= 23\n",
        "\n",
        "try:\n",
        "  result= first_num + sec_numm\n",
        "except NameError:\n",
        "  result= first_num+ sec_num\n",
        "  print(result)"
      ],
      "metadata": {
        "colab": {
          "base_uri": "https://localhost:8080/"
        },
        "id": "eIFxXTAOOKLQ",
        "outputId": "b82de253-42d8-4d7e-cfb5-9b829453b0fc"
      },
      "execution_count": null,
      "outputs": [
        {
          "output_type": "stream",
          "name": "stdout",
          "text": [
            "33\n"
          ]
        }
      ]
    },
    {
      "cell_type": "code",
      "source": [
        "first_num= 10\n",
        "sec_num= \"23\"\n",
        "\n",
        "try:\n",
        "  result= first_num + sec_num\n",
        "except TypeError:\n",
        "  result= int(first_num) + int(sec_num)\n",
        "  print(result)"
      ],
      "metadata": {
        "colab": {
          "base_uri": "https://localhost:8080/"
        },
        "id": "hX0Vxwd2PCKV",
        "outputId": "ac1e7431-0ace-46de-cbf7-45472a8996f0"
      },
      "execution_count": null,
      "outputs": [
        {
          "output_type": "stream",
          "name": "stdout",
          "text": [
            "33\n"
          ]
        }
      ]
    },
    {
      "cell_type": "code",
      "source": [
        "# An else statement can be used to define what should be executed if no errors are raised\n",
        "first_num= 10\n",
        "sec_num= 23\n",
        "\n",
        "try:\n",
        "  result= first_num + sec_num\n",
        "  print(result)\n",
        "except TypeError:\n",
        "  result= int(first_num) + int(sec_num)\n",
        "else:\n",
        "  print(\"No type error was caught\")"
      ],
      "metadata": {
        "colab": {
          "base_uri": "https://localhost:8080/"
        },
        "id": "ltkUZvtzPgVB",
        "outputId": "bb564023-d619-4abb-c2ef-2948fdc53fef"
      },
      "execution_count": null,
      "outputs": [
        {
          "output_type": "stream",
          "name": "stdout",
          "text": [
            "33\n",
            "No type error was caught\n"
          ]
        }
      ]
    },
    {
      "cell_type": "code",
      "source": [
        "# An else statement will not be executed if an exception is caught\n",
        "first_num= 10\n",
        "sec_num= \"23\"\n",
        "\n",
        "try:\n",
        "  result= first_num + sec_num\n",
        "  print(result)\n",
        "except TypeError:\n",
        "  result= int(first_num) + int(sec_num)\n",
        "  print(\"The exception returned: \", result)\n",
        "else:\n",
        "  print(\"No type error was caught\")"
      ],
      "metadata": {
        "colab": {
          "base_uri": "https://localhost:8080/"
        },
        "id": "bx2mAqxpQnpQ",
        "outputId": "7632bd99-6d85-4989-b548-ebfcab99430c"
      },
      "execution_count": null,
      "outputs": [
        {
          "output_type": "stream",
          "name": "stdout",
          "text": [
            "The exception returned:  33\n"
          ]
        }
      ]
    },
    {
      "cell_type": "code",
      "source": [
        "# A Finally Statement placed after the Try Except is executed whether or not an exception is caught\n",
        "# Finally without an exception error\n",
        "first_num= 10\n",
        "sec_num= 23\n",
        "\n",
        "try:\n",
        "  result= first_num + sec_num\n",
        "  print(result)\n",
        "except TypeError:\n",
        "  result= int(first_num) + int(sec_num)\n",
        "  print(\"The exception returned: \", result)\n",
        "finally:\n",
        "  print(\"The try except has finished.\")"
      ],
      "metadata": {
        "colab": {
          "base_uri": "https://localhost:8080/"
        },
        "id": "0Bxh0R33QUPy",
        "outputId": "8c2c9345-6194-4638-c812-1aa22f328d79"
      },
      "execution_count": null,
      "outputs": [
        {
          "output_type": "stream",
          "name": "stdout",
          "text": [
            "33\n",
            "The try except has finished.\n"
          ]
        }
      ]
    },
    {
      "cell_type": "code",
      "source": [
        "# Finally with an exception error\n",
        "first_num= 10\n",
        "sec_num= \"23\"\n",
        "\n",
        "try:\n",
        "  result= first_num + sec_num\n",
        "  print(result)\n",
        "except TypeError:\n",
        "  result= int(first_num) + int(sec_num)\n",
        "  print(\"The exception returned: \", result)\n",
        "finally:\n",
        "  print(\"The try except has finished.\")"
      ],
      "metadata": {
        "colab": {
          "base_uri": "https://localhost:8080/"
        },
        "id": "uuidAtpvSGIT",
        "outputId": "43262d2b-9161-42de-b7cb-6973749637ca"
      },
      "execution_count": null,
      "outputs": [
        {
          "output_type": "stream",
          "name": "stdout",
          "text": [
            "The exception returned:  33\n",
            "The try except has finished.\n"
          ]
        }
      ]
    },
    {
      "cell_type": "code",
      "source": [
        "# Raising exceptions\n",
        "\n",
        "def grd(marks):\n",
        "  if marks>100 or marks<0:\n",
        "    raise ValueError(\"The marks are out of bound\")\n",
        "  if marks>=80:\n",
        "    return \"The student has an A\"\n",
        "  if marks>=70:\n",
        "    return \"The student has a B\"\n",
        "  if marks>=60:\n",
        "    return \"The student has a C\"\n",
        "  if marks>=50:\n",
        "    return \"The student has a D\"\n",
        "  if marks<50:\n",
        "    return \"The student has Failed\"\n",
        "marks= float(input(\"Enter the marks: \"))\n",
        "result= grd(marks)\n",
        "print(result)"
      ],
      "metadata": {
        "colab": {
          "base_uri": "https://localhost:8080/",
          "height": 372
        },
        "id": "ha0oRw3SSfQt",
        "outputId": "d5138864-b3c6-4544-a3e9-69a717b12421"
      },
      "execution_count": null,
      "outputs": [
        {
          "name": "stdout",
          "output_type": "stream",
          "text": [
            "Enter the marks: -1\n"
          ]
        },
        {
          "output_type": "error",
          "ename": "ValueError",
          "evalue": "ignored",
          "traceback": [
            "\u001b[0;31m---------------------------------------------------------------------------\u001b[0m",
            "\u001b[0;31mValueError\u001b[0m                                Traceback (most recent call last)",
            "\u001b[0;32m<ipython-input-43-33028a87ac4b>\u001b[0m in \u001b[0;36m<cell line: 17>\u001b[0;34m()\u001b[0m\n\u001b[1;32m     15\u001b[0m     \u001b[0;32mreturn\u001b[0m \u001b[0;34m\"The student has Failed\"\u001b[0m\u001b[0;34m\u001b[0m\u001b[0;34m\u001b[0m\u001b[0m\n\u001b[1;32m     16\u001b[0m \u001b[0mmarks\u001b[0m\u001b[0;34m=\u001b[0m \u001b[0mfloat\u001b[0m\u001b[0;34m(\u001b[0m\u001b[0minput\u001b[0m\u001b[0;34m(\u001b[0m\u001b[0;34m\"Enter the marks: \"\u001b[0m\u001b[0;34m)\u001b[0m\u001b[0;34m)\u001b[0m\u001b[0;34m\u001b[0m\u001b[0;34m\u001b[0m\u001b[0m\n\u001b[0;32m---> 17\u001b[0;31m \u001b[0mresult\u001b[0m\u001b[0;34m=\u001b[0m \u001b[0mgrd\u001b[0m\u001b[0;34m(\u001b[0m\u001b[0mmarks\u001b[0m\u001b[0;34m)\u001b[0m\u001b[0;34m\u001b[0m\u001b[0;34m\u001b[0m\u001b[0m\n\u001b[0m\u001b[1;32m     18\u001b[0m \u001b[0mprint\u001b[0m\u001b[0;34m(\u001b[0m\u001b[0mresult\u001b[0m\u001b[0;34m)\u001b[0m\u001b[0;34m\u001b[0m\u001b[0;34m\u001b[0m\u001b[0m\n",
            "\u001b[0;32m<ipython-input-43-33028a87ac4b>\u001b[0m in \u001b[0;36mgrd\u001b[0;34m(marks)\u001b[0m\n\u001b[1;32m      3\u001b[0m \u001b[0;32mdef\u001b[0m \u001b[0mgrd\u001b[0m\u001b[0;34m(\u001b[0m\u001b[0mmarks\u001b[0m\u001b[0;34m)\u001b[0m\u001b[0;34m:\u001b[0m\u001b[0;34m\u001b[0m\u001b[0;34m\u001b[0m\u001b[0m\n\u001b[1;32m      4\u001b[0m   \u001b[0;32mif\u001b[0m \u001b[0mmarks\u001b[0m\u001b[0;34m>\u001b[0m\u001b[0;36m100\u001b[0m \u001b[0;32mor\u001b[0m \u001b[0mmarks\u001b[0m\u001b[0;34m<\u001b[0m\u001b[0;36m0\u001b[0m\u001b[0;34m:\u001b[0m\u001b[0;34m\u001b[0m\u001b[0;34m\u001b[0m\u001b[0m\n\u001b[0;32m----> 5\u001b[0;31m     \u001b[0;32mraise\u001b[0m \u001b[0mValueError\u001b[0m\u001b[0;34m(\u001b[0m\u001b[0;34m\"The marks are out of bound\"\u001b[0m\u001b[0;34m)\u001b[0m\u001b[0;34m\u001b[0m\u001b[0;34m\u001b[0m\u001b[0m\n\u001b[0m\u001b[1;32m      6\u001b[0m   \u001b[0;32mif\u001b[0m \u001b[0mmarks\u001b[0m\u001b[0;34m>=\u001b[0m\u001b[0;36m80\u001b[0m\u001b[0;34m:\u001b[0m\u001b[0;34m\u001b[0m\u001b[0;34m\u001b[0m\u001b[0m\n\u001b[1;32m      7\u001b[0m     \u001b[0;32mreturn\u001b[0m \u001b[0;34m\"The student has an A\"\u001b[0m\u001b[0;34m\u001b[0m\u001b[0;34m\u001b[0m\u001b[0m\n",
            "\u001b[0;31mValueError\u001b[0m: The marks are out of bound"
          ]
        }
      ]
    },
    {
      "cell_type": "code",
      "source": [
        "# Raising exceptions\n",
        "\n",
        "def grd(marks):\n",
        "  if marks>100 or marks<0:\n",
        "    raise ValueError(\"The marks are out of bound\")\n",
        "  if marks>=80:\n",
        "    return \"The student has an A\"\n",
        "  if marks>=70:\n",
        "    return \"The student has a B\"\n",
        "  if marks>=60:\n",
        "    return \"The student has a C\"\n",
        "  if marks>=50:\n",
        "    return \"The student has a D\"\n",
        "  if marks<50:\n",
        "    return \"The student has Failed\"\n",
        "\n",
        "def get_grade(marks):\n",
        "  try:\n",
        "    grade= grd(marks)\n",
        "    print(grade)\n",
        "  except ValueError as ve:\n",
        "    print(ve)\n",
        "\n",
        "marks= float(input(\"Enter the marks: \"))\n",
        "get_grade(marks)"
      ],
      "metadata": {
        "colab": {
          "base_uri": "https://localhost:8080/"
        },
        "id": "6RPbyOxvXBcQ",
        "outputId": "0290fe1d-8241-419d-cdc6-64366ea21aa1"
      },
      "execution_count": null,
      "outputs": [
        {
          "output_type": "stream",
          "name": "stdout",
          "text": [
            "Enter the marks: -1\n",
            "The marks are out of bound\n"
          ]
        }
      ]
    },
    {
      "cell_type": "code",
      "source": [
        "user_emails= []\n",
        "\n",
        "def create(user_email):\n",
        "  if user_email in user_emails:\n",
        "    msg = \"An email with the value {} already exists\".format(user_email)\n",
        "    # print(msg)\n",
        "    raise ValueError(msg)\n",
        "  else:\n",
        "     user_emails.append(user_email)\n",
        "\n",
        "def parse_users(users_data):\n",
        "  for user_data in users_data:\n",
        "    email= user_data[\"email\"]\n",
        "    try:\n",
        "      create(email)\n",
        "    except ValueError as ve:\n",
        "      print(ve)\n",
        "\n",
        "user_inputs= [\n",
        "    {\n",
        "        \"first_name\": \"John\",\n",
        "        \"last_name\": \"Keigler\",\n",
        "        \"email\": \"jon@gmail.com\",\n",
        "        \"password\": \"jk123\"\n",
        "    },\n",
        "    {\n",
        "        \"first_name\": \"Jane\",\n",
        "        \"last_name\": \"Doe\",\n",
        "        \"email\": \"doe@gmail.com\",\n",
        "        \"password\": \"jdoe89\"\n",
        "    },\n",
        "    {\n",
        "        \"first_name\": \"Wanner\",\n",
        "        \"last_name\": \"Ann\",\n",
        "        \"email\": \"ann@gmail.com\",\n",
        "        \"password\": \"wann5*\"\n",
        "    },\n",
        "    {\n",
        "        \"first_name\": \"Angel\",\n",
        "        \"last_name\": \"Trent\",\n",
        "        \"email\": \"doe@gmail.com\",\n",
        "        \"password\": \"strent!!\"\n",
        "    },\n",
        "    {\n",
        "        \"first_name\": \"Edd\",\n",
        "        \"last_name\": \"Nate\",\n",
        "        \"email\":\"edd@gmail.com\",\n",
        "        \"password\": \"redd%8\"\n",
        "    },\n",
        "    {\n",
        "        \"first_name\": \"Eddy\",\n",
        "        \"last_name\": \"Gathegi\",\n",
        "        \"email\":\"edy@gmail.com\",\n",
        "        \"password\": \"startup$$\"\n",
        "    },\n",
        "    {\n",
        "        \"first_name\": \"Tedd\",\n",
        "        \"last_name\": \"Guiye\",\n",
        "        \"email\": \"ann@gmail.com\",\n",
        "        \"password\": \"tg009\"\n",
        "    }\n",
        "]\n",
        "parse_users(user_inputs)\n",
        "print(user_emails)\n"
      ],
      "metadata": {
        "colab": {
          "base_uri": "https://localhost:8080/"
        },
        "id": "LK4Oe5Qecarj",
        "outputId": "bd9eed65-ff15-49ee-d26f-f267d8b30bc0"
      },
      "execution_count": null,
      "outputs": [
        {
          "output_type": "stream",
          "name": "stdout",
          "text": [
            "An email with the value doe@gmail.com already exists\n",
            "An email with the value ann@gmail.com already exists\n",
            "['jon@gmail.com', 'doe@gmail.com', 'ann@gmail.com', 'edd@gmail.com', 'edy@gmail.com']\n"
          ]
        }
      ]
    },
    {
      "cell_type": "code",
      "source": [
        "# add user name to our user input \n",
        "# generate list of unique username by validating each addition\n"
      ],
      "metadata": {
        "id": "pbQYo2ZHvg2Q"
      },
      "execution_count": null,
      "outputs": []
    }
  ]
}